{
 "cells": [
  {
   "cell_type": "code",
   "execution_count": 1,
   "metadata": {},
   "outputs": [],
   "source": [
    "path = '/Volumes/Seagate/ML/Machine-Learning-Implementations/ML'\n",
    "import sys\n",
    "sys.path.insert(1, path)\n",
    "path = '/Volumes/Seagate/ML/Machine-Learning-Implementations'\n",
    "import sys\n",
    "sys.path.insert(1, path)\n",
    "\n",
    "import pandas as pd\n",
    "import numpy as np\n",
    "import ML"
   ]
  },
  {
   "cell_type": "markdown",
   "metadata": {},
   "source": [
    "In this notebook, we will test the hypothesis test functionality of the main code base, which includes:\n",
    "\n",
    "1. Pearson correlation\n",
    "2. Mutual Information\n",
    "3. Kendall Information\n",
    "4. chi-square test \n",
    "5. t-tests\n",
    "6. kolmogorov-Smirnov test\n",
    "\n",
    "Where appropriate we can use downloaded real datasets, otherwise opting for generated data."
   ]
  },
  {
   "cell_type": "code",
   "execution_count": 2,
   "metadata": {},
   "outputs": [
    {
     "data": {
      "text/plain": [
       "True"
      ]
     },
     "execution_count": 2,
     "metadata": {},
     "output_type": "execute_result"
    }
   ],
   "source": [
    "# Pearson correlation\n",
    "\n",
    "n_tests = 100\n",
    "res = []\n",
    "for _ in range(0,n_tests):\n",
    "    x = np.random.uniform(0,1,(100))\n",
    "    y = np.random.uniform(0,1,(100))\n",
    "    z = np.random.uniform(0,1,(100))\n",
    "\n",
    "    X = np.array([x,y,z])\n",
    "    is_true = np.isclose(ML.pearson_correlation(X), np.corrcoef(X)).all()\n",
    "    res.append(is_true)\n",
    "np.array(res).all()"
   ]
  },
  {
   "cell_type": "code",
   "execution_count": 3,
   "metadata": {},
   "outputs": [
    {
     "data": {
      "text/plain": [
       "True"
      ]
     },
     "execution_count": 3,
     "metadata": {},
     "output_type": "execute_result"
    }
   ],
   "source": [
    "# Mutual information\n",
    "\n",
    "url = 'https://archive.ics.uci.edu/ml/machine-learning-databases/balance-scale/balance-scale.data'\n",
    "source = pd.read_csv(url)\n",
    "source.columns = ['target','f1','f2','f3','f4']\n",
    "data = source.copy()\n",
    "\n",
    "mapper = {x:i for i,x in enumerate(data['target'].unique())}\n",
    "data['target'] = data['target'].map(lambda x:mapper[x])\n",
    "\n",
    "X = data[['f1','f2','f3','f4']].values\n",
    "Y = data['target'].values\n",
    "\n",
    "my_result = ML.mutual_information().compute(X,Y).values\n",
    "\n",
    "from sklearn.metrics import mutual_info_score\n",
    "sklearn_result = np.array([mutual_info_score(Y, X[:,i]) for i in range(4)])\n",
    "\n",
    "np.isclose(my_result, sklearn_result).all()"
   ]
  },
  {
   "cell_type": "code",
   "execution_count": 4,
   "metadata": {},
   "outputs": [
    {
     "data": {
      "text/plain": [
       "True"
      ]
     },
     "execution_count": 4,
     "metadata": {},
     "output_type": "execute_result"
    }
   ],
   "source": [
    "# Kendall information\n",
    "from scipy.stats import kendalltau\n",
    "\n",
    "def get(n):\n",
    "    if n in [1,2]:\n",
    "        x = np.random.choice([1,2,3],p=[2/3,1/6,1/6])\n",
    "    elif n in [3,4]:\n",
    "        x = np.random.choice([1,2,3],p=[1/6,2/3,1/6])\n",
    "    else:\n",
    "        x = np.random.choice([1,2,3],p=[1/6,1/6,2/3])\n",
    "    return x\n",
    "\n",
    "x = np.random.randint(1,7,100)\n",
    "y = np.array([get(n) for n in iter(x)])\n",
    "\n",
    "\n",
    "my_result = ML.kendall_correlation(x,y)\n",
    "scipy_result = kendalltau(x,y).correlation\n",
    "\n",
    "np.isclose(my_result , scipy_result)"
   ]
  },
  {
   "cell_type": "code",
   "execution_count": 5,
   "metadata": {},
   "outputs": [
    {
     "data": {
      "text/html": [
       "<div>\n",
       "<style scoped>\n",
       "    .dataframe tbody tr th:only-of-type {\n",
       "        vertical-align: middle;\n",
       "    }\n",
       "\n",
       "    .dataframe tbody tr th {\n",
       "        vertical-align: top;\n",
       "    }\n",
       "\n",
       "    .dataframe thead th {\n",
       "        text-align: right;\n",
       "    }\n",
       "</style>\n",
       "<table border=\"1\" class=\"dataframe\">\n",
       "  <thead>\n",
       "    <tr style=\"text-align: right;\">\n",
       "      <th></th>\n",
       "      <th>f0</th>\n",
       "      <th>f1</th>\n",
       "      <th>f2</th>\n",
       "      <th>f3</th>\n",
       "    </tr>\n",
       "  </thead>\n",
       "  <tbody>\n",
       "    <tr>\n",
       "      <th>chi_2 statistic</th>\n",
       "      <td>109.715</td>\n",
       "      <td>109.715</td>\n",
       "      <td>109.715</td>\n",
       "      <td>109.715</td>\n",
       "    </tr>\n",
       "    <tr>\n",
       "      <th>dof</th>\n",
       "      <td>8</td>\n",
       "      <td>8</td>\n",
       "      <td>8</td>\n",
       "      <td>8</td>\n",
       "    </tr>\n",
       "    <tr>\n",
       "      <th>p-value</th>\n",
       "      <td>0</td>\n",
       "      <td>0</td>\n",
       "      <td>0</td>\n",
       "      <td>0</td>\n",
       "    </tr>\n",
       "    <tr>\n",
       "      <th>Reject H_0?</th>\n",
       "      <td>True</td>\n",
       "      <td>True</td>\n",
       "      <td>True</td>\n",
       "      <td>True</td>\n",
       "    </tr>\n",
       "  </tbody>\n",
       "</table>\n",
       "</div>"
      ],
      "text/plain": [
       "                      f0       f1       f2       f3\n",
       "chi_2 statistic  109.715  109.715  109.715  109.715\n",
       "dof                    8        8        8        8\n",
       "p-value                0        0        0        0\n",
       "Reject H_0?         True     True     True     True"
      ]
     },
     "execution_count": 5,
     "metadata": {},
     "output_type": "execute_result"
    }
   ],
   "source": [
    "# chi2 test\n",
    "\n",
    "url = 'https://archive.ics.uci.edu/ml/machine-learning-databases/balance-scale/balance-scale.data'\n",
    "source = pd.read_csv(url)\n",
    "source.columns = ['target','f1','f2','f3','f4']\n",
    "data = source.copy()\n",
    "\n",
    "mapper = {x:i for i,x in enumerate(data['target'].unique())}\n",
    "data['target'] = data['target'].map(lambda x:mapper[x])\n",
    "\n",
    "X = data[['f1','f2','f3','f4']].values\n",
    "Y = data['target'].values\n",
    "\n",
    "ML.chi2_test().compute(X,Y)\n"
   ]
  },
  {
   "cell_type": "code",
   "execution_count": 6,
   "metadata": {},
   "outputs": [
    {
     "name": "stdout",
     "output_type": "stream",
     "text": [
      "True\n",
      "True\n",
      "True\n",
      "True\n"
     ]
    }
   ],
   "source": [
    "# t-tests for the mean\n",
    "from scipy import stats\n",
    "\n",
    "rvs1 = stats.norm.rvs(loc=5,scale=10,size=300)\n",
    "rvs2 = stats.norm.rvs(loc=5,scale=10,size=500)\n",
    "\n",
    "stat, p = ML.TTest().one_sample(rvs1, 50)\n",
    "res = stats.ttest_1samp(rvs1,50)\n",
    "print(stat == res.statistic and p == res.pvalue)\n",
    "\n",
    "stat, p = ML.TTest().one_sample(rvs1, 5)\n",
    "res = stats.ttest_1samp(rvs1,5)\n",
    "print(stat == res.statistic and p == res.pvalue)\n",
    "\n",
    "stat, p = ML.TTest().two_sample(rvs1, rvs2, True)\n",
    "res = stats.ttest_ind(rvs1,rvs2, equal_var = True)\n",
    "print(np.isclose(stat,res.statistic) and np.isclose(p,res.pvalue))\n",
    "\n",
    "stat, p = ML.TTest().two_sample(rvs1, rvs2, False)\n",
    "res = stats.ttest_ind(rvs1,rvs2, equal_var = False)\n",
    "print(np.isclose(stat,res.statistic) and np.isclose(p,res.pvalue))"
   ]
  },
  {
   "cell_type": "code",
   "execution_count": 7,
   "metadata": {},
   "outputs": [
    {
     "name": "stdout",
     "output_type": "stream",
     "text": [
      "0.5983321412415565\n",
      "False\n",
      "5.0132710800104245\n",
      "True\n",
      "0.08000000000000002\n",
      "False\n"
     ]
    }
   ],
   "source": [
    "# Kolmogorov-Smirnov test\n",
    "\n",
    "# KS smaple test\n",
    "\n",
    "rvs = np.random.normal(0,1,100)\n",
    "KS_stat, reject = ML.KolmogorobSmirnov().one_sample(rvs, 'norm')\n",
    "\n",
    "print(KS_stat)\n",
    "print(reject)\n",
    "\n",
    "rvs = np.random.uniform(0,1,100)\n",
    "KS_stat, reject = ML.KolmogorobSmirnov().one_sample(rvs, 'norm')\n",
    "\n",
    "print(KS_stat)\n",
    "print(reject)\n",
    "\n",
    "rvs1 = np.random.normal(0,1,100)\n",
    "rvs2 = np.random.normal(0,1,100)\n",
    "KS_stat, reject = ML.KolmogorobSmirnov().two_sample(rvs1, rvs2)\n",
    "\n",
    "print(KS_stat)\n",
    "print(reject)"
   ]
  },
  {
   "cell_type": "code",
   "execution_count": null,
   "metadata": {},
   "outputs": [],
   "source": []
  }
 ],
 "metadata": {
  "kernelspec": {
   "display_name": "Python 3.6.9 64-bit ('ml_env': conda)",
   "language": "python",
   "name": "python36964bitmlenvconda9f54039d931e4029adcffd4ea832f0f0"
  },
  "language_info": {
   "codemirror_mode": {
    "name": "ipython",
    "version": 3
   },
   "file_extension": ".py",
   "mimetype": "text/x-python",
   "name": "python",
   "nbconvert_exporter": "python",
   "pygments_lexer": "ipython3",
   "version": "3.6.9"
  }
 },
 "nbformat": 4,
 "nbformat_minor": 2
}
