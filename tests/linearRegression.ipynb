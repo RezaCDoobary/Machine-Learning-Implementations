{
 "nbformat": 4,
 "nbformat_minor": 2,
 "metadata": {
  "language_info": {
   "name": "python",
   "codemirror_mode": {
    "name": "ipython",
    "version": 3
   },
   "version": "3.5.0-final"
  },
  "orig_nbformat": 2,
  "file_extension": ".py",
  "mimetype": "text/x-python",
  "name": "python",
  "npconvert_exporter": "python",
  "pygments_lexer": "ipython3",
  "version": 3,
  "kernelspec": {
   "name": "python36964bitmlenvconda9f54039d931e4029adcffd4ea832f0f0",
   "display_name": "Python 3.6.9 64-bit ('ml_env': conda)"
  }
 },
 "cells": [
  {
   "cell_type": "code",
   "execution_count": 5,
   "metadata": {},
   "outputs": [],
   "source": [
    "path = '/Volumes/Seagate/MLImplementations/'\n",
    "path = '/Volumes/Seagate/MLImplementations/ML'\n",
    "import sys\n",
    "sys.path.insert(1, path)"
   ]
  },
  {
   "cell_type": "code",
   "execution_count": 8,
   "metadata": {},
   "outputs": [],
   "source": [
    "import ML\n",
    "import numpy as np \n",
    "import pandas as pd"
   ]
  },
  {
   "cell_type": "code",
   "execution_count": 34,
   "metadata": {},
   "outputs": [
    {
     "name": "stdout",
     "output_type": "stream",
     "text": "0.7417021000127564\n[0.4452385  0.67999105 0.67150768]\n"
    }
   ],
   "source": [
    "#generate data\n",
    "x1 = np.random.normal(0,1,1000)\n",
    "x2 = np.random.uniform(0,1,1000)\n",
    "x3 = np.random.gamma(2,12,1000)\n",
    "\n",
    "X = np.array([x1,x2,x3]).T\n",
    "\n",
    "alpha = np.random.uniform()\n",
    "beta = np.random.uniform(0,1,3)\n",
    "\n",
    "Y = (alpha + beta*X).sum(1)\n",
    "\n",
    "print(alpha)\n",
    "print(beta)"
   ]
  },
  {
   "cell_type": "code",
   "execution_count": 38,
   "metadata": {},
   "outputs": [
    {
     "name": "stdout",
     "output_type": "stream",
     "text": "True\n2.22510630003827\n[0.4452385  0.67999105 0.67150768]\n"
    }
   ],
   "source": [
    "from sklearn import linear_model\n",
    "lr = linear_model.LinearRegression()\n",
    "lr.fit(X,Y)\n",
    "print(np.isclose(lr.predict(X),Y).all())\n",
    "\n",
    "print(lr.intercept_)\n",
    "print(lr.coef_)"
   ]
  },
  {
   "cell_type": "code",
   "execution_count": 48,
   "metadata": {},
   "outputs": [
    {
     "name": "stdout",
     "output_type": "stream",
     "text": "True\n2.225106300038277\n[0.4452385  0.67999105 0.67150768]\n"
    }
   ],
   "source": [
    "from ML import LinearRegression as LR\n",
    "lr = LR()\n",
    "lr.setUp(X,Y)\n",
    "result = lr.fit(optimiser = 'OLS')\n",
    "print(np.isclose(lr.predict(X), Y).all())\n",
    "print(result[0])\n",
    "print(result[1:])"
   ]
  },
  {
   "cell_type": "code",
   "execution_count": 54,
   "metadata": {},
   "outputs": [
    {
     "name": "stdout",
     "output_type": "stream",
     "text": "Progress on iteration 0.0%current cost 1.5964673585652736\nProgress on iteration 20.0%current cost 0.001374468905840029\nProgress on iteration 24.5% \niteration stopped due to tolerance difference reached\n"
    },
    {
     "data": {
      "text/plain": "array([2.14443738, 0.44591713, 0.80896927, 0.6720167 ])"
     },
     "execution_count": 54,
     "metadata": {},
     "output_type": "execute_result"
    }
   ],
   "source": [
    "from ML import gradientDescent as gd\n",
    "lr = LR()\n",
    "lr.setUp(X,Y)\n",
    "op = gd(0.001, lr)\n",
    "lr.fit(op)"
   ]
  }
 ]
}