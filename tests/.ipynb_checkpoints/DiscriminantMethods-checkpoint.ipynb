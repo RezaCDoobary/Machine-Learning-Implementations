{
 "cells": [
  {
   "cell_type": "code",
   "execution_count": 1,
   "metadata": {},
   "outputs": [],
   "source": [
    "path = '/Volumes/Seagate/ML/Machine-Learning-Implementations/ML'\n",
    "import sys\n",
    "sys.path.insert(1, path)\n",
    "path = '/Volumes/Seagate/ML/Machine-Learning-Implementations'\n",
    "import sys\n",
    "sys.path.insert(1, path)\n",
    "\n",
    "import numpy as np \n",
    "import pandas as pd\n",
    "\n",
    "import ML\n",
    "from sklearn import linear_model\n",
    "import numpy as np\n",
    "import pandas as pd\n",
    "\n",
    "from tqdm import tqdm_notebook\n",
    "from ML import gradientDescent as gd\n",
    "\n",
    "import matplotlib.pyplot as plt\n",
    "\n",
    "\n",
    "import ML.kernels as kl"
   ]
  },
  {
   "cell_type": "code",
   "execution_count": 2,
   "metadata": {},
   "outputs": [],
   "source": [
    "# generate data with many classes:\n",
    "def generate_data(classes, method = 'hard'):\n",
    "    X = np.random.uniform(-1,1,(1000,2))\n",
    "\n",
    "    # random function\n",
    "    if method == 'hard':\n",
    "        Y = np.sin(X)**2 + np.tanh(X)\n",
    "    else:\n",
    "        Y = X\n",
    "    Y = np.sum(Y,1)\n",
    "    K = np.arange(classes)\n",
    "    \n",
    "\n",
    "\n",
    "    boundaries = [np.quantile(Y,i/classes) for i in range(1,classes)]\n",
    "    boundaries = [np.min(Y)] + boundaries + [np.max(Y) + 10-5]\n",
    "    Y_class = []\n",
    "    for y in Y:\n",
    "        for i in range(0,len(boundaries)-1):\n",
    "            if (boundaries[i] <= y) and (y < boundaries[i+1]):\n",
    "                Y_class.append(i)\n",
    "                break\n",
    "    Y = np.array(Y_class)\n",
    "    return X, Y"
   ]
  },
  {
   "cell_type": "markdown",
   "metadata": {},
   "source": [
    "##  Least Squares"
   ]
  },
  {
   "cell_type": "code",
   "execution_count": 3,
   "metadata": {},
   "outputs": [
    {
     "data": {
      "text/plain": [
       "0.991"
      ]
     },
     "execution_count": 3,
     "metadata": {},
     "output_type": "execute_result"
    }
   ],
   "source": [
    "X,Y = generate_data(2, 'easy')\n",
    "\n",
    "model = ML.LeastSquares()\n",
    "model.fit(X,Y)\n",
    "np.sum(model.predict(X) == Y)/len(Y)"
   ]
  },
  {
   "cell_type": "code",
   "execution_count": 4,
   "metadata": {},
   "outputs": [
    {
     "data": {
      "text/plain": [
       "0.651"
      ]
     },
     "execution_count": 4,
     "metadata": {},
     "output_type": "execute_result"
    }
   ],
   "source": [
    "X,Y = generate_data(3, 'hard')\n",
    "\n",
    "model = ML.LeastSquares()\n",
    "model.fit(X,Y)\n",
    "np.sum(model.predict(X) == Y)/len(Y)"
   ]
  },
  {
   "cell_type": "markdown",
   "metadata": {},
   "source": [
    "## Perceptron"
   ]
  },
  {
   "cell_type": "code",
   "execution_count": 5,
   "metadata": {},
   "outputs": [
    {
     "name": "stdout",
     "output_type": "stream",
     "text": [
      "194.63096280436838\n",
      "Loss = 0 reached\n"
     ]
    },
    {
     "data": {
      "text/plain": [
       "1.0"
      ]
     },
     "execution_count": 5,
     "metadata": {},
     "output_type": "execute_result"
    }
   ],
   "source": [
    "# Perceptron (only for the binary case)\n",
    "\n",
    "X,Y = generate_data(2, 'easy')\n",
    "model = ML.Perceptron()\n",
    "model.fit(X,Y,verbose = True)\n",
    "np.sum(model.predict(X) == Y)/len(Y)"
   ]
  },
  {
   "cell_type": "code",
   "execution_count": 6,
   "metadata": {},
   "outputs": [
    {
     "name": "stdout",
     "output_type": "stream",
     "text": [
      "204.3322854091651\n",
      "11.913930737070608\n",
      "11.892489057226884\n",
      "10.51823705831589\n",
      "10.822093495197501\n",
      "10.66274310348695\n",
      "12.196860368336957\n",
      "10.960978598637745\n",
      "11.111294979694133\n",
      "12.19445229542213\n"
     ]
    },
    {
     "data": {
      "text/plain": [
       "0.837"
      ]
     },
     "execution_count": 6,
     "metadata": {},
     "output_type": "execute_result"
    }
   ],
   "source": [
    "X,Y = generate_data(2, 'hard')\n",
    "model = ML.Perceptron()\n",
    "model.fit(X,Y,verbose = True)\n",
    "np.sum(model.predict(X) == Y)/len(Y)"
   ]
  },
  {
   "cell_type": "markdown",
   "metadata": {},
   "source": [
    "# Discriminant Analysis"
   ]
  },
  {
   "cell_type": "code",
   "execution_count": 7,
   "metadata": {},
   "outputs": [
    {
     "data": {
      "text/plain": [
       "{0.0: 0.99,\n",
       " 0.05263157894736842: 0.99,\n",
       " 0.10526315789473684: 0.99,\n",
       " 0.15789473684210525: 0.99,\n",
       " 0.21052631578947367: 0.99,\n",
       " 0.2631578947368421: 0.99,\n",
       " 0.3157894736842105: 0.99,\n",
       " 0.3684210526315789: 0.99,\n",
       " 0.42105263157894735: 0.99,\n",
       " 0.47368421052631576: 0.99,\n",
       " 0.5263157894736842: 0.99,\n",
       " 0.5789473684210527: 0.99,\n",
       " 0.631578947368421: 0.99,\n",
       " 0.6842105263157894: 0.99,\n",
       " 0.7368421052631579: 0.991,\n",
       " 0.7894736842105263: 0.991,\n",
       " 0.8421052631578947: 0.991,\n",
       " 0.894736842105263: 0.991,\n",
       " 0.9473684210526315: 0.991,\n",
       " 1.0: 0.991}"
      ]
     },
     "execution_count": 7,
     "metadata": {},
     "output_type": "execute_result"
    }
   ],
   "source": [
    "# DA\n",
    "\n",
    "X,Y = generate_data(2, 'easy')\n",
    "\n",
    "alpha_grid = np.linspace(0,1,20)\n",
    "result = {}\n",
    "\n",
    "for alpha in alpha_grid:\n",
    "    model = ML.DiscriminantAnalysis(alpha = alpha)\n",
    "    model.fit(X,Y)\n",
    "    result[alpha] = np.sum(model.predict(X) == Y)/len(Y)\n",
    "    \n",
    "result"
   ]
  },
  {
   "cell_type": "code",
   "execution_count": 9,
   "metadata": {},
   "outputs": [
    {
     "data": {
      "text/plain": [
       "{0.0: 0.731,\n",
       " 0.05263157894736842: 0.733,\n",
       " 0.10526315789473684: 0.735,\n",
       " 0.15789473684210525: 0.742,\n",
       " 0.21052631578947367: 0.744,\n",
       " 0.2631578947368421: 0.746,\n",
       " 0.3157894736842105: 0.748,\n",
       " 0.3684210526315789: 0.752,\n",
       " 0.42105263157894735: 0.76,\n",
       " 0.47368421052631576: 0.764,\n",
       " 0.5263157894736842: 0.766,\n",
       " 0.5789473684210527: 0.769,\n",
       " 0.631578947368421: 0.775,\n",
       " 0.6842105263157894: 0.781,\n",
       " 0.7368421052631579: 0.782,\n",
       " 0.7894736842105263: 0.784,\n",
       " 0.8421052631578947: 0.786,\n",
       " 0.894736842105263: 0.791,\n",
       " 0.9473684210526315: 0.793,\n",
       " 1.0: 0.794}"
      ]
     },
     "execution_count": 9,
     "metadata": {},
     "output_type": "execute_result"
    }
   ],
   "source": [
    "X,Y = generate_data(3, 'hard')\n",
    "\n",
    "alpha_grid = np.linspace(0,1,20)\n",
    "result = {}\n",
    "\n",
    "for alpha in alpha_grid:\n",
    "    model = ML.DiscriminantAnalysis(alpha = alpha)\n",
    "    model.fit(X,Y)\n",
    "    result[alpha] = np.sum(model.predict(X) == Y)/len(Y)\n",
    "result"
   ]
  },
  {
   "cell_type": "code",
   "execution_count": null,
   "metadata": {},
   "outputs": [],
   "source": []
  }
 ],
 "metadata": {
  "kernelspec": {
   "display_name": "Python 3.6.9 64-bit ('ml_env': conda)",
   "language": "python",
   "name": "python36964bitmlenvconda9f54039d931e4029adcffd4ea832f0f0"
  },
  "language_info": {
   "codemirror_mode": {
    "name": "ipython",
    "version": 3
   },
   "file_extension": ".py",
   "mimetype": "text/x-python",
   "name": "python",
   "nbconvert_exporter": "python",
   "pygments_lexer": "ipython3",
   "version": "3.6.9"
  }
 },
 "nbformat": 4,
 "nbformat_minor": 2
}
