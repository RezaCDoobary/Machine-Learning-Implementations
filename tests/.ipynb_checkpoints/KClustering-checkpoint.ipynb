{
 "cells": [
  {
   "cell_type": "code",
   "execution_count": 1,
   "metadata": {},
   "outputs": [],
   "source": [
    "path = '/Volumes/Seagate/ML/Machine-Learning-Implementations/ML'\n",
    "import sys\n",
    "sys.path.insert(1, path)\n",
    "path = '/Volumes/Seagate/ML/Machine-Learning-Implementations'\n",
    "import sys\n",
    "sys.path.insert(1, path)\n",
    "\n",
    "import pandas as pd\n",
    "import numpy as np\n",
    "import ML"
   ]
  },
  {
   "cell_type": "markdown",
   "metadata": {},
   "source": [
    "### Kmodes"
   ]
  },
  {
   "cell_type": "code",
   "execution_count": 2,
   "metadata": {},
   "outputs": [
    {
     "name": "stdout",
     "output_type": "stream",
     "text": [
      "[[1 1 1 0 0 0 0 0 0]\n",
      " [0 0 0 0 0 0 1 1 1]\n",
      " [0 0 0 1 1 1 0 0 0]]\n",
      "{0: array([ 0,  1,  2,  3,  4,  5,  6,  7,  8,  9, 10, 11, 12, 13, 14, 15, 16,\n",
      "       17, 18, 19, 20, 21, 22, 23, 24, 25, 26, 27, 28, 29, 30, 31, 32, 33,\n",
      "       34, 35, 36, 37, 38, 39, 40, 41, 42, 43, 44, 45, 46, 47, 48, 49]), 1: array([100, 101, 102, 103, 104, 105, 106, 107, 108, 109, 110, 111, 112,\n",
      "       113, 114, 115, 116, 117, 118, 119, 120, 121, 122, 123, 124, 125,\n",
      "       126, 127, 128, 129, 130, 131, 132, 133, 134, 135, 136, 137, 138,\n",
      "       139, 140, 141, 142, 143, 144, 145, 146, 147, 148, 149]), 2: array([50, 51, 52, 53, 54, 55, 56, 57, 58, 59, 60, 61, 62, 63, 64, 65, 66,\n",
      "       67, 68, 69, 70, 71, 72, 73, 74, 75, 76, 77, 78, 79, 80, 81, 82, 83,\n",
      "       84, 85, 86, 87, 88, 89, 90, 91, 92, 93, 94, 95, 96, 97, 98, 99])}\n"
     ]
    }
   ],
   "source": [
    "X = np.array([[1,1,1,0,0,0,0,0,0] for i in range(50)] + [[0,0,0,1,1,1,0,0,0] for i in range(50)] + \\\n",
    "[[0,0,0,0,0,0,1,1,1,] for i in range(50)])\n",
    "model = ML.KModes(3)\n",
    "model.fit(X)\n",
    "print(model.centroids)\n",
    "print(model.clusters)"
   ]
  },
  {
   "cell_type": "markdown",
   "metadata": {},
   "source": [
    "### Kmeans"
   ]
  },
  {
   "cell_type": "code",
   "execution_count": 3,
   "metadata": {},
   "outputs": [
    {
     "data": {
      "text/plain": [
       "<matplotlib.collections.PathCollection at 0x1a1cfebc88>"
      ]
     },
     "execution_count": 3,
     "metadata": {},
     "output_type": "execute_result"
    },
    {
     "data": {
      "image/png": "[encoded data removed]",
      "text/plain": [
       "<Figure size 432x288 with 1 Axes>"
      ]
     },
     "metadata": {
      "needs_background": "light"
     },
     "output_type": "display_data"
    }
   ],
   "source": [
    "import matplotlib.pyplot as plt\n",
    "%matplotlib inline\n",
    "\n",
    "X1 = np.random.normal(0,1,(100,2))\n",
    "X2 = np.random.normal(3,1,(100,2))\n",
    "X3 = np.random.normal(5,1,(100,2))\n",
    "\n",
    "\n",
    "Z = np.concatenate([X1,X2,X3])\n",
    "model = ML.KMeans(3)\n",
    "model.fit(Z)\n",
    "\n",
    "plt.scatter(Z.T[0],Z.T[1])\n",
    "plt.scatter(model.centroids.T[0],model.centroids.T[1])"
   ]
  },
  {
   "cell_type": "markdown",
   "metadata": {},
   "source": [
    "### KPrototype"
   ]
  },
  {
   "cell_type": "code",
   "execution_count": 4,
   "metadata": {},
   "outputs": [
    {
     "name": "stdout",
     "output_type": "stream",
     "text": [
      "[[0. 0. 0. 1. 1. 1. 0. 0. 0.]\n",
      " [0. 0. 0. 0. 0. 0. 1. 1. 1.]\n",
      " [1. 1. 1. 0. 0. 0. 0. 0. 0.]]\n",
      "[[ 4.96849143  4.93482747]\n",
      " [ 3.03161383  2.63562451]\n",
      " [-0.08988947 -0.11025837]]\n",
      "{0: array([ 61,  85,  91,  92,  97, 100, 101, 102, 103, 105, 106, 107, 108,\n",
      "       109, 110, 111, 112, 113, 114, 115, 117, 118, 119, 120, 121, 122,\n",
      "       123, 124, 125, 126, 127, 128, 129, 130, 131, 132, 133, 134, 135,\n",
      "       136, 137, 138, 139, 140, 142, 143, 144, 145, 146, 147, 148, 149]), 1: array([  6,  16,  50,  51,  52,  53,  54,  55,  56,  57,  58,  59,  60,\n",
      "        62,  63,  64,  65,  66,  67,  68,  69,  70,  71,  72,  73,  74,\n",
      "        75,  76,  77,  78,  79,  80,  81,  82,  83,  84,  86,  87,  88,\n",
      "        89,  90,  93,  94,  95,  96,  98,  99, 104, 116, 141]), 2: array([ 0,  1,  2,  3,  4,  5,  7,  8,  9, 10, 11, 12, 13, 14, 15, 17, 18,\n",
      "       19, 20, 21, 22, 23, 24, 25, 26, 27, 28, 29, 30, 31, 32, 33, 34, 35,\n",
      "       36, 37, 38, 39, 40, 41, 42, 43, 44, 45, 46, 47, 48, 49])}\n"
     ]
    }
   ],
   "source": [
    "X_categorical = np.array([[1,1,1,0,0,0,0,0,0] for i in range(50)] + [[0,0,0,1,1,1,0,0,0] for i in range(50)] + \\\n",
    "[[0,0,0,0,0,0,1,1,1,] for i in range(50)])\n",
    "\n",
    "X1 = np.random.normal(0,1,(50,2))\n",
    "X2 = np.random.normal(3,1,(50,2))\n",
    "X3 = np.random.normal(5,1,(50,2))\n",
    "\n",
    "X_numerical = np.concatenate([X1,X2,X3])\n",
    "X = np.concatenate([X_categorical, X_numerical],1)\n",
    "\n",
    "\n",
    "X_categorical_ind = [0,1,2,3,4,5,6,7,8]\n",
    "X_numerical_ind = [9,10]\n",
    "model = ML.KPrototypes(3,1,X_categorical_ind,X_numerical_ind)\n",
    "model.fit(X)\n",
    "print(model.modes)\n",
    "print(model.means)\n",
    "print(model.clusters)"
   ]
  },
  {
   "cell_type": "code",
   "execution_count": null,
   "metadata": {},
   "outputs": [],
   "source": []
  }
 ],
 "metadata": {
  "kernelspec": {
   "display_name": "Python 3.6.9 64-bit ('ml_env': conda)",
   "language": "python",
   "name": "python36964bitmlenvconda9f54039d931e4029adcffd4ea832f0f0"
  },
  "language_info": {
   "codemirror_mode": {
    "name": "ipython",
    "version": 3
   },
   "file_extension": ".py",
   "mimetype": "text/x-python",
   "name": "python",
   "nbconvert_exporter": "python",
   "pygments_lexer": "ipython3",
   "version": "3.6.9"
  }
 },
 "nbformat": 4,
 "nbformat_minor": 2
}
