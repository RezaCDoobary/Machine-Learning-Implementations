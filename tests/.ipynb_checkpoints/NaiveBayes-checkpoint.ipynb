{
 "cells": [
  {
   "cell_type": "code",
   "execution_count": 1,
   "metadata": {},
   "outputs": [],
   "source": [
    "path = '/Volumes/Seagate/ML/Machine-Learning-Implementations/ML'\n",
    "import sys\n",
    "sys.path.insert(1, path)\n",
    "path = '/Volumes/Seagate/ML/Machine-Learning-Implementations'\n",
    "import sys\n",
    "sys.path.insert(1, path)\n",
    "\n",
    "import numpy as np \n",
    "import pandas as pd\n",
    "\n",
    "import ML\n",
    "from sklearn import linear_model\n",
    "import numpy as np\n",
    "import pandas as pd\n",
    "\n",
    "from tqdm import tqdm_notebook\n",
    "from ML import gradientDescent as gd\n",
    "\n",
    "import matplotlib.pyplot as plt\n",
    "\n",
    "\n",
    "import ML.kernels as kl"
   ]
  },
  {
   "cell_type": "code",
   "execution_count": 2,
   "metadata": {},
   "outputs": [],
   "source": [
    "# generate data with many classes:\n",
    "def generate_data(classes, method = 'hard'):\n",
    "    X = np.random.uniform(-1,1,(1000,2))\n",
    "\n",
    "    # random function\n",
    "    if method == 'hard':\n",
    "        Y = np.sin(X)**2 + np.tanh(X)\n",
    "    else:\n",
    "        Y = X\n",
    "    Y = np.sum(Y,1)\n",
    "    K = np.arange(classes)\n",
    "    \n",
    "\n",
    "\n",
    "    boundaries = [np.quantile(Y,i/classes) for i in range(1,classes)]\n",
    "    boundaries = [np.min(Y)] + boundaries + [np.max(Y) + 10-5]\n",
    "    Y_class = []\n",
    "    for y in Y:\n",
    "        for i in range(0,len(boundaries)-1):\n",
    "            if (boundaries[i] <= y) and (y < boundaries[i+1]):\n",
    "                Y_class.append(i)\n",
    "                break\n",
    "    Y = np.array(Y_class)\n",
    "    return X, Y\n",
    "\n",
    "\n",
    "def generate_categorical_data():\n",
    "    x1 = np.random.randint(0,4,(1,1000))\n",
    "    x2 = np.random.randint(0,2,(1,1000))\n",
    "\n",
    "    X = np.concatenate([x1,x2],0).T\n",
    "\n",
    "    Y = np.prod(X,1)\n",
    "    Y = np.array(Y > 1,int)\n",
    "    \n",
    "    return X, Y"
   ]
  },
  {
   "cell_type": "code",
   "execution_count": 3,
   "metadata": {},
   "outputs": [
    {
     "data": {
      "text/plain": [
       "0.916"
      ]
     },
     "execution_count": 3,
     "metadata": {},
     "output_type": "execute_result"
    }
   ],
   "source": [
    "X,Y = generate_data(2,'hard')\n",
    "model = ML.GaussianNaiveBayes()\n",
    "model.fit(X,Y)\n",
    "np.sum(model.predict(X) == Y)/len(Y)"
   ]
  },
  {
   "cell_type": "code",
   "execution_count": 8,
   "metadata": {},
   "outputs": [
    {
     "data": {
      "text/plain": [
       "0.69"
      ]
     },
     "execution_count": 8,
     "metadata": {},
     "output_type": "execute_result"
    }
   ],
   "source": [
    "X,Y = generate_data(6,'easy')\n",
    "model = ML.GaussianNaiveBayes()\n",
    "model.fit(X,Y)\n",
    "np.sum(model.predict(X) == Y)/len(Y)"
   ]
  },
  {
   "cell_type": "code",
   "execution_count": 9,
   "metadata": {},
   "outputs": [
    {
     "data": {
      "text/plain": [
       "{0: {'means': -0.6084503259218433, 'var': 0.07413089866105718},\n",
       " 1: {'means': -0.31021445139301634, 'var': 0.16540525116888535},\n",
       " 2: {'means': -0.08854893102745096, 'var': 0.26905172280064366},\n",
       " 3: {'means': 0.0663252775776478, 'var': 0.2924074462043266},\n",
       " 4: {'means': 0.21579356857568238, 'var': 0.17694682179863852},\n",
       " 5: {'means': 0.636530689546808, 'var': 0.06798690484258454}}"
      ]
     },
     "execution_count": 9,
     "metadata": {},
     "output_type": "execute_result"
    }
   ],
   "source": [
    "model.get_gaussian_data_per_feature(0)"
   ]
  },
  {
   "cell_type": "code",
   "execution_count": 11,
   "metadata": {},
   "outputs": [
    {
     "data": {
      "text/plain": [
       "{0: {'means': -0.6127885999436041, 'var': 0.06523494679557473},\n",
       " 1: {'means': -0.3014103757495932, 'var': 0.16614401296264514},\n",
       " 2: {'means': -0.1132095372406429, 'var': 0.2658122102155024},\n",
       " 3: {'means': 0.07120536172525405, 'var': 0.273394448752591},\n",
       " 4: {'means': 0.3202668252839547, 'var': 0.17519296259241016},\n",
       " 5: {'means': 0.5754800403623244, 'var': 0.08415827647301036}}"
      ]
     },
     "execution_count": 11,
     "metadata": {},
     "output_type": "execute_result"
    }
   ],
   "source": [
    "model.get_gaussian_data_per_feature(1)"
   ]
  },
  {
   "cell_type": "code",
   "execution_count": null,
   "metadata": {},
   "outputs": [],
   "source": []
  }
 ],
 "metadata": {
  "kernelspec": {
   "display_name": "Python 3.6.9 64-bit ('ml_env': conda)",
   "language": "python",
   "name": "python36964bitmlenvconda9f54039d931e4029adcffd4ea832f0f0"
  },
  "language_info": {
   "codemirror_mode": {
    "name": "ipython",
    "version": 3
   },
   "file_extension": ".py",
   "mimetype": "text/x-python",
   "name": "python",
   "nbconvert_exporter": "python",
   "pygments_lexer": "ipython3",
   "version": "3.6.9"
  }
 },
 "nbformat": 4,
 "nbformat_minor": 2
}
