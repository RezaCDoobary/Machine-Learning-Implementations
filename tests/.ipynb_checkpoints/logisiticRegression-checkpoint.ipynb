{
 "cells": [
  {
   "cell_type": "code",
   "execution_count": 1,
   "metadata": {},
   "outputs": [],
   "source": [
    "path = '/Volumes/Seagate/ML/Machine-Learning-Implementations/ML'\n",
    "import sys\n",
    "sys.path.insert(1, path)\n",
    "path = '/Volumes/Seagate/ML/Machine-Learning-Implementations'\n",
    "import sys\n",
    "sys.path.insert(1, path)\n",
    "\n",
    "import numpy as np \n",
    "import pandas as pd\n",
    "\n",
    "import ML\n",
    "from sklearn import linear_model\n",
    "import numpy as np\n",
    "import pandas as pd\n",
    "\n",
    "from tqdm import tqdm_notebook\n",
    "from ML import gradientDescent as gd\n",
    "\n",
    "import matplotlib.pyplot as plt"
   ]
  },
  {
   "cell_type": "code",
   "execution_count": 2,
   "metadata": {},
   "outputs": [
    {
     "data": {
      "application/vnd.jupyter.widget-view+json": {
       "model_id": "8a45fdc1fa74475fb9d6cbd587a2b063",
       "version_major": 2,
       "version_minor": 0
      },
      "text/plain": [
       "HBox(children=(FloatProgress(value=0.0, max=5000.0), HTML(value='')))"
      ]
     },
     "metadata": {},
     "output_type": "display_data"
    },
    {
     "name": "stdout",
     "output_type": "stream",
     "text": [
      "\n"
     ]
    }
   ],
   "source": [
    "# binary case\n",
    "\n",
    "X = np.random.normal(0,1,(100,2))\n",
    "Y = np.array(X.sum(1) > 0,int).reshape(-1,1)\n",
    "X = np.insert(X, 0, values=1, axis=1)\n",
    "\n",
    "optimiser = gd(0.01,max_iteration = 5000,tolerance = 0.0,notebook = True)\n",
    "lr = ML.LogisticRegression(lagriangian_constant=0.001,method = optimiser)\n",
    "lr.fit(X,Y)"
   ]
  },
  {
   "cell_type": "code",
   "execution_count": 3,
   "metadata": {},
   "outputs": [
    {
     "data": {
      "text/plain": [
       "0.99"
      ]
     },
     "execution_count": 3,
     "metadata": {},
     "output_type": "execute_result"
    }
   ],
   "source": [
    "np.sum(lr.predict(X) == Y)/len(Y)"
   ]
  },
  {
   "cell_type": "code",
   "execution_count": 4,
   "metadata": {},
   "outputs": [
    {
     "data": {
      "application/vnd.jupyter.widget-view+json": {
       "model_id": "98568f43df244cedb35d44da38c6a7ab",
       "version_major": 2,
       "version_minor": 0
      },
      "text/plain": [
       "HBox(children=(FloatProgress(value=0.0, max=5000.0), HTML(value='')))"
      ]
     },
     "metadata": {},
     "output_type": "display_data"
    },
    {
     "name": "stdout",
     "output_type": "stream",
     "text": [
      "\n"
     ]
    }
   ],
   "source": [
    "# multinomal case\n",
    "\n",
    "X = np.random.normal(0,1,(100,2))\n",
    "Y = []\n",
    "data = X.sum(1)\n",
    "for v in data:\n",
    "    if v < -0.3:\n",
    "        Y.append(0)\n",
    "    elif v >= -0.3 and v < 0.3:\n",
    "        Y.append(1)\n",
    "    else:\n",
    "        Y.append(2)\n",
    "Y = np.array(Y).reshape(-1,1)\n",
    "X = np.insert(X, 0, values=1, axis=1)\n",
    "\n",
    "optimiser = gd(0.1,max_iteration = 5000,tolerance = 0.0,notebook = True)\n",
    "lr = ML.LogisticRegression(lagriangian_constant=0.001,method = optimiser)\n",
    "lr.fit(X,Y)"
   ]
  },
  {
   "cell_type": "code",
   "execution_count": 5,
   "metadata": {},
   "outputs": [
    {
     "data": {
      "text/plain": [
       "0.94"
      ]
     },
     "execution_count": 5,
     "metadata": {},
     "output_type": "execute_result"
    }
   ],
   "source": [
    "np.array(lr.predict(X) == Y.reshape(1,len(Y)),int).sum()/len(Y)"
   ]
  },
  {
   "cell_type": "code",
   "execution_count": null,
   "metadata": {},
   "outputs": [],
   "source": []
  }
 ],
 "metadata": {
  "kernelspec": {
   "display_name": "Python 3.6.9 64-bit ('ml_env': conda)",
   "language": "python",
   "name": "python36964bitmlenvconda9f54039d931e4029adcffd4ea832f0f0"
  },
  "language_info": {
   "codemirror_mode": {
    "name": "ipython",
    "version": 3
   },
   "file_extension": ".py",
   "mimetype": "text/x-python",
   "name": "python",
   "nbconvert_exporter": "python",
   "pygments_lexer": "ipython3",
   "version": "3.6.9"
  }
 },
 "nbformat": 4,
 "nbformat_minor": 2
}
