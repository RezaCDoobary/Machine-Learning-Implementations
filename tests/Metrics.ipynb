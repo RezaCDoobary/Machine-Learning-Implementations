{
 "cells": [
  {
   "cell_type": "code",
   "execution_count": 8,
   "metadata": {},
   "outputs": [],
   "source": [
    "path = '/Volumes/Seagate/ML/Machine-Learning-Implementations/ML'\n",
    "import sys\n",
    "sys.path.insert(1, path)\n",
    "path = '/Volumes/Seagate/ML/Machine-Learning-Implementations'\n",
    "import sys\n",
    "sys.path.insert(1, path)\n",
    "import pandas as pd\n",
    "import numpy as np\n",
    "import ML\n",
    "\n",
    "import matplotlib.pyplot as plt\n",
    "\n",
    "%matplotlib inline"
   ]
  },
  {
   "cell_type": "markdown",
   "metadata": {},
   "source": [
    "In this notebook, we will test the metrics functionality of the main code base, which includes:\n",
    "\n",
    "1. Precision \n",
    "2. Recall \n",
    "3. ROC - AUC \n",
    "4. F2 score (and generalisation)\n",
    "5. Precision Recall curve \n",
    "6. Balanced accuracy\n",
    "7. R2\n",
    "\n",
    "Where appropriate we can use downloaded real datasets, otherwise opting for generated data."
   ]
  },
  {
   "cell_type": "code",
   "execution_count": 9,
   "metadata": {},
   "outputs": [],
   "source": [
    "url = 'https://archive.ics.uci.edu/ml/machine-learning-databases/balance-scale/balance-scale.data'\n",
    "import pandas as pd\n",
    "import numpy as np\n",
    "\n",
    "data = pd.read_csv(url)\n",
    "data.columns = ['target','f1','f2','f3','f4']\n",
    "\n",
    "target = data['target'].unique()\n",
    "mapper = {target[i]:i for i in range(0,len(target))}\n",
    "data['target'] = data['target'].map(lambda x: mapper[x])\n",
    "\n",
    "X = data[['f1','f2','f3','f4']].values\n",
    "Y = data['target'].values.reshape(-1,1)"
   ]
  },
  {
   "cell_type": "code",
   "execution_count": 10,
   "metadata": {},
   "outputs": [],
   "source": [
    "from sklearn.model_selection import train_test_split\n",
    "\n",
    "X_train, X_test, y_train, y_test = train_test_split(\n",
    "    X, Y, test_size=0.33, random_state=42)\n",
    "\n",
    "model = ML.MultiNomialNaiveBayes()\n",
    "model.fit(X_train, y_train)"
   ]
  },
  {
   "cell_type": "code",
   "execution_count": 11,
   "metadata": {},
   "outputs": [
    {
     "name": "stdout",
     "output_type": "stream",
     "text": [
      "0.9578947368421052 0.9381443298969072 0.9479166666666666 0.9507235410952426\n"
     ]
    }
   ],
   "source": [
    "# testing precision, recall, f1 and balanced accuracy\n",
    "\n",
    "y_scores = model.predict_proba(X_test)[:,0]\n",
    "y_pred = np.array(y_scores>0.5,int).ravel().reshape(-1,1)\n",
    "y_obs = np.array(y_test == 0,int).ravel().reshape(-1,1)\n",
    "\n",
    "cm = ML.classification_metrics()\n",
    "\n",
    "prec = cm.precision(y_obs, y_pred)\n",
    "rec = cm.recall(y_obs, y_pred)\n",
    "f1 = cm.F_score(y_obs, y_pred)\n",
    "ba = cm.balanced_accuracy(y_obs, y_pred)\n",
    "print(prec, rec, f1,ba)"
   ]
  },
  {
   "cell_type": "code",
   "execution_count": 12,
   "metadata": {},
   "outputs": [
    {
     "data": {
      "text/plain": [
       "Text(0.5, 1.0, 'Precision - Recall curve')"
      ]
     },
     "execution_count": 12,
     "metadata": {},
     "output_type": "execute_result"
    },
    {
     "data": {
      "image/png": "[encoded data removed]",
      "text/plain": [
       "<Figure size 432x288 with 1 Axes>"
      ]
     },
     "metadata": {
      "needs_background": "light"
     },
     "output_type": "display_data"
    }
   ],
   "source": [
    "# Precision - Recall curve\n",
    "\n",
    "precision_, recall_, threshold_ = ML.precision_recall_curve(y_obs, y_scores,50)\n",
    "\n",
    "plt.scatter(precision_, recall_)\n",
    "plt.xlabel('Precision')\n",
    "plt.ylabel('Recall')\n",
    "plt.title('Precision - Recall curve')"
   ]
  },
  {
   "cell_type": "code",
   "execution_count": 13,
   "metadata": {},
   "outputs": [
    {
     "data": {
      "text/plain": [
       "Text(0.5, 1.0, 'ROC : FPR-TPR curve')"
      ]
     },
     "execution_count": 13,
     "metadata": {},
     "output_type": "execute_result"
    },
    {
     "data": {
      "image/png": "[encoded data removed]",
      "text/plain": [
       "<Figure size 432x288 with 1 Axes>"
      ]
     },
     "metadata": {
      "needs_background": "light"
     },
     "output_type": "display_data"
    }
   ],
   "source": [
    "TPR_, FPR_, threshold_ = ML.ROC(y_obs, y_scores,50)\n",
    "\n",
    "plt.scatter(FPR_,TPR_)\n",
    "plt.xlabel('FPR')\n",
    "plt.ylabel('TPR')\n",
    "plt.title('ROC : FPR-TPR curve')"
   ]
  },
  {
   "cell_type": "code",
   "execution_count": 17,
   "metadata": {},
   "outputs": [
    {
     "name": "stdout",
     "output_type": "stream",
     "text": [
      "-0.017322511284293185\n"
     ]
    },
    {
     "data": {
      "text/plain": [
       "True"
      ]
     },
     "execution_count": 17,
     "metadata": {},
     "output_type": "execute_result"
    }
   ],
   "source": [
    "# R2 - tests\n",
    "\n",
    "\n",
    "# checking on an actual dataset\n",
    "url = 'https://archive.ics.uci.edu/ml/machine-learning-databases/forest-fires/forestfires.csv'\n",
    "source = pd.read_csv(url)\n",
    "data = source.copy()\n",
    "\n",
    "del data['month']\n",
    "del data['day']\n",
    "\n",
    "target = data['area']\n",
    "features = list(data.columns)\n",
    "features.remove('area')\n",
    "features_matrix = data[features]\n",
    "\n",
    "from sklearn.linear_model import LinearRegression\n",
    "from sklearn.model_selection import train_test_split\n",
    "\n",
    "y = target.values\n",
    "y = np.log(y + 1e-10)\n",
    "X = features_matrix.values\n",
    "\n",
    "X_train, X_test, y_train, y_test = train_test_split(X, y, test_size=0.33, random_state=42)\n",
    "\n",
    "model = LinearRegression()\n",
    "model.fit(X_train, y_train)\n",
    "\n",
    "y_pred = model.predict(X_test)\n",
    "\n",
    "print(ML.R2_score(y_test, y_pred))\n",
    "\n",
    "\n",
    "\n",
    "\n",
    "# checking against the sklearn metric\n",
    "from sklearn.metrics import r2_score\n",
    "\n",
    "all_tests = []\n",
    "n = 100\n",
    "\n",
    "for i in range(0,n):\n",
    "\n",
    "    y1 = np.random.uniform(0,100,10)\n",
    "    y2 = np.random.uniform(0,100,10)\n",
    "\n",
    "    if not np.isclose(r2_score(y1,y2), ML.R2_score(y1,y2)):\n",
    "        break\n",
    "    \n",
    "np.array(all_tests).all()"
   ]
  },
  {
   "cell_type": "code",
   "execution_count": null,
   "metadata": {},
   "outputs": [],
   "source": []
  }
 ],
 "metadata": {
  "kernelspec": {
   "display_name": "Python 3.6.9 64-bit ('ml_env': conda)",
   "language": "python",
   "name": "python36964bitmlenvconda9f54039d931e4029adcffd4ea832f0f0"
  },
  "language_info": {
   "codemirror_mode": {
    "name": "ipython",
    "version": 3
   },
   "file_extension": ".py",
   "mimetype": "text/x-python",
   "name": "python",
   "nbconvert_exporter": "python",
   "pygments_lexer": "ipython3",
   "version": "3.6.9"
  }
 },
 "nbformat": 4,
 "nbformat_minor": 2
}
