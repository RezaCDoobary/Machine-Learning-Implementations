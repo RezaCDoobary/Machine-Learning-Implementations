{
 "cells": [
  {
   "cell_type": "code",
   "execution_count": 1,
   "metadata": {},
   "outputs": [],
   "source": [
    "path = '/Volumes/Seagate/ML/Machine-Learning-Implementations/ML'\n",
    "import sys\n",
    "sys.path.insert(1, path)\n",
    "path = '/Volumes/Seagate/ML/Machine-Learning-Implementations'\n",
    "import sys\n",
    "sys.path.insert(1, path)\n",
    "\n",
    "import pandas as pd\n",
    "import numpy as np\n",
    "import ML"
   ]
  },
  {
   "cell_type": "code",
   "execution_count": 2,
   "metadata": {},
   "outputs": [
    {
     "data": {
      "text/plain": [
       "450"
      ]
     },
     "execution_count": 2,
     "metadata": {},
     "output_type": "execute_result"
    }
   ],
   "source": [
    "X = np.random.normal(0,1,(2,500))\n",
    "X = np.concatenate([X,[[1]*500]],0)\n",
    "\n",
    "Y = np.random.normal(6,1,(2,500))\n",
    "Y = np.concatenate([Y,[[2]*500]],0)\n",
    "\n",
    "Z = np.random.normal(-10,2,(2,500))\n",
    "Z = np.concatenate([Z,[[3]*500]],0)\n",
    "\n",
    "dataset = np.concatenate([X.T,Y.T,Z.T])\n",
    "df = pd.DataFrame(dataset,columns = ['x','y','label'])\n",
    "\n",
    "data = df[['x','y']].values\n",
    "target = df['label'].values\n",
    "\n",
    "from sklearn.model_selection import train_test_split\n",
    "\n",
    "X_train, X_test, y_train, y_test = train_test_split(data, target, test_size=0.3, random_state=4878)\n",
    "\n",
    "model = ML.KNNClassifer(5,'euclidean')\n",
    "model.fit(X_train, y_train)\n",
    "pred = model.predict(X_test)\n",
    "\n",
    "np.sum(pred == y_test)"
   ]
  },
  {
   "cell_type": "code",
   "execution_count": 4,
   "metadata": {},
   "outputs": [
    {
     "data": {
      "text/plain": [
       "412"
      ]
     },
     "execution_count": 4,
     "metadata": {},
     "output_type": "execute_result"
    }
   ],
   "source": [
    "url = 'https://archive.ics.uci.edu/ml/machine-learning-databases/00267/data_banknote_authentication.txt'\n",
    "data = pd.read_csv(url, header = None)\n",
    "\n",
    "X = data[[0,1,2,3]].values\n",
    "y = data[4].values\n",
    "\n",
    "X_train, X_test, y_train, y_test = train_test_split(X,y, test_size=0.3, random_state=4878)\n",
    "\n",
    "model =  ML.KNNClassifer(5,'euclidean')\n",
    "model.fit(X_train, y_train)\n",
    "pred = model.predict(X_test)\n",
    "\n",
    "np.sum(pred == y_test)"
   ]
  },
  {
   "cell_type": "code",
   "execution_count": 5,
   "metadata": {},
   "outputs": [
    {
     "name": "stdout",
     "output_type": "stream",
     "text": [
      "0.05585452506070731\n",
      "0.9408237616871494\n"
     ]
    }
   ],
   "source": [
    "X = np.random.uniform(0,10,100)\n",
    "Y = np.random.uniform(1,5,100)\n",
    "sinX = np.sin(X)+np.sin(Y)\n",
    "\n",
    "\n",
    "dataset = pd.DataFrame(np.array([X,Y, sinX]).T, columns = ['x','y','target'])\n",
    "\n",
    "data = dataset[['x','y']].values\n",
    "target = dataset['target'].values\n",
    "\n",
    "\n",
    "X_train, X_test, y_train, y_test = train_test_split(data, target, test_size=0.3, random_state=4878)\n",
    "\n",
    "model = ML.KNNRegression(5,'euclidean')\n",
    "model.fit(X_train, y_train)\n",
    "pred = model.predict(X_test)\n",
    "\n",
    "#np.sum(pred == y_test)\n",
    "diff = pred - y_test\n",
    "print(np.mean(diff**2))\n",
    "\n",
    "from sklearn.metrics import r2_score\n",
    "print(r2_score(y_test, pred))"
   ]
  },
  {
   "cell_type": "code",
   "execution_count": null,
   "metadata": {},
   "outputs": [],
   "source": []
  }
 ],
 "metadata": {
  "kernelspec": {
   "display_name": "Python 3.6.9 64-bit ('ml_env': conda)",
   "language": "python",
   "name": "python36964bitmlenvconda9f54039d931e4029adcffd4ea832f0f0"
  },
  "language_info": {
   "codemirror_mode": {
    "name": "ipython",
    "version": 3
   },
   "file_extension": ".py",
   "mimetype": "text/x-python",
   "name": "python",
   "nbconvert_exporter": "python",
   "pygments_lexer": "ipython3",
   "version": "3.6.9"
  }
 },
 "nbformat": 4,
 "nbformat_minor": 2
}
