{
 "cells": [
  {
   "cell_type": "code",
   "execution_count": 167,
   "metadata": {},
   "outputs": [],
   "source": [
    "import numpy as np\n",
    "from numpy.linalg import inv\n",
    "import matplotlib.pyplot as plt\n",
    "\n",
    "%matplotlib inline"
   ]
  },
  {
   "cell_type": "code",
   "execution_count": 168,
   "metadata": {},
   "outputs": [],
   "source": [
    "X = np.random.uniform(-1,1,(1000,2))"
   ]
  },
  {
   "cell_type": "code",
   "execution_count": 169,
   "metadata": {},
   "outputs": [],
   "source": [
    "Y = []\n",
    "for i in range(0,len(X)):\n",
    "    x1, x2 = X[i]\n",
    "    if x1+x2 > 0:\n",
    "        Y.append(1)\n",
    "    else:\n",
    "        Y.append(0)\n",
    "Y = np.array(Y)"
   ]
  },
  {
   "cell_type": "code",
   "execution_count": 170,
   "metadata": {},
   "outputs": [],
   "source": [
    "# least squre"
   ]
  },
  {
   "cell_type": "code",
   "execution_count": 171,
   "metadata": {},
   "outputs": [],
   "source": [
    "idx = 0\n",
    "new_col = np.array([1]*1000)\n",
    "X = np.insert(X, idx, new_col, axis=1)"
   ]
  },
  {
   "cell_type": "code",
   "execution_count": 172,
   "metadata": {},
   "outputs": [],
   "source": [
    "first = inv(np.matmul(X.T,X))\n",
    "second = np.matmul(X.T,Y)\n",
    "\n",
    "W = np.matmul(first, second)\n",
    "w0, w1, w2 = W"
   ]
  },
  {
   "cell_type": "code",
   "execution_count": 173,
   "metadata": {},
   "outputs": [],
   "source": [
    "xx1 ,xx2 = X[:,1], X[:,2]"
   ]
  },
  {
   "cell_type": "code",
   "execution_count": 174,
   "metadata": {},
   "outputs": [],
   "source": [
    "idx_1 = np.where(Y == 1)[0]\n",
    "idx_2 = np.where(Y == 0)[0]\n",
    "\n",
    "\n",
    "X1, X2 = xx1[idx_1], xx2[idx_1]\n",
    "XX1, XX2 = xx1[idx_2], xx2[idx_2]"
   ]
  },
  {
   "cell_type": "code",
   "execution_count": 180,
   "metadata": {},
   "outputs": [
    {
     "data": {
      "text/plain": [
       "<matplotlib.collections.PathCollection at 0x11e25c940>"
      ]
     },
     "execution_count": 180,
     "metadata": {},
     "output_type": "execute_result"
    },
    {
     "data": {
      "image/png": "[encoded data removed]",
      "text/plain": [
       "<Figure size 432x288 with 1 Axes>"
      ]
     },
     "metadata": {
      "needs_background": "light"
     },
     "output_type": "display_data"
    }
   ],
   "source": [
    "x1 = np.linspace(-1,1,1000)\n",
    "x2 = -(w0+w1*x1)/w2 # I would have thought I should do (-w0 - w1*x1)/w2 ??\n",
    "plt.plot(x1,x2)\n",
    "\n",
    "plt.scatter(X1,X2, color ='r')\n",
    "plt.scatter(XX1, XX2, color = 'b')"
   ]
  },
  {
   "cell_type": "code",
   "execution_count": 176,
   "metadata": {},
   "outputs": [
    {
     "data": {
      "text/plain": [
       "array([1.51364072])"
      ]
     },
     "execution_count": 176,
     "metadata": {},
     "output_type": "execute_result"
    }
   ],
   "source": [
    "def y(X,Y,x):\n",
    "    first = np.matmul(Y.T, X)\n",
    "    second = inv(np.matmul(X.T,X))\n",
    "    prefactor = np.matmul(first, second)\n",
    "    return np.matmul(prefactor,x)\n",
    "\n",
    "x = np.array([[1,1,1]]).T\n",
    "y(X,Y,x)"
   ]
  },
  {
   "cell_type": "code",
   "execution_count": 177,
   "metadata": {},
   "outputs": [
    {
     "data": {
      "text/plain": [
       "array([0.12707977])"
      ]
     },
     "execution_count": 177,
     "metadata": {},
     "output_type": "execute_result"
    }
   ],
   "source": [
    "x = np.array([[1,-0.75,0]]).T\n",
    "y(X,Y,x)"
   ]
  },
  {
   "cell_type": "code",
   "execution_count": 183,
   "metadata": {},
   "outputs": [],
   "source": [
    "#Write up FISHER LINEAR DISCRIMITNATE\n",
    "#Write up PERCEPTRON ALGORITHM"
   ]
  },
  {
   "cell_type": "code",
   "execution_count": null,
   "metadata": {},
   "outputs": [],
   "source": []
  }
 ],
 "metadata": {
  "kernelspec": {
   "display_name": "Python 3.6.9 64-bit ('ml_env': conda)",
   "language": "python",
   "name": "python36964bitmlenvconda9f54039d931e4029adcffd4ea832f0f0"
  },
  "language_info": {
   "codemirror_mode": {
    "name": "ipython",
    "version": 3
   },
   "file_extension": ".py",
   "mimetype": "text/x-python",
   "name": "python",
   "nbconvert_exporter": "python",
   "pygments_lexer": "ipython3",
   "version": "3.6.9"
  }
 },
 "nbformat": 4,
 "nbformat_minor": 2
}
