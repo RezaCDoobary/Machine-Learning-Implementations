{
 "cells": [
  {
   "cell_type": "code",
   "execution_count": 57,
   "metadata": {},
   "outputs": [],
   "source": [
    "import numpy as np\n",
    "import pandas as pd\n",
    "from collections import Counter"
   ]
  },
  {
   "cell_type": "code",
   "execution_count": 109,
   "metadata": {},
   "outputs": [],
   "source": [
    "df = pd.read_csv('banknotes.txt', header = None)\n",
    "df.columns = ['x0','x1','x3','x4','y']\n",
    "\n",
    "X = df[['x0','x1','x3','x4']]\n",
    "y = df['y']\n",
    "\n",
    "split = int(0.8*len(X))\n",
    "X_train, y_train = X[:split], y[:split]\n",
    "X_val, y_val = X[split:], y[split:]\n",
    "\n",
    "indices = np.arange(len(X_train))\n",
    "size = int(0.5*len(X_train))"
   ]
  },
  {
   "cell_type": "code",
   "execution_count": 110,
   "metadata": {},
   "outputs": [],
   "source": [
    "from sklearn.tree import DecisionTreeClassifier"
   ]
  },
  {
   "cell_type": "code",
   "execution_count": null,
   "metadata": {},
   "outputs": [],
   "source": []
  },
  {
   "cell_type": "code",
   "execution_count": 111,
   "metadata": {},
   "outputs": [
    {
     "data": {
      "text/plain": [
       "0.9854545454545455"
      ]
     },
     "execution_count": 111,
     "metadata": {},
     "output_type": "execute_result"
    }
   ],
   "source": [
    "number_of_estimators = 200\n",
    "\n",
    "#tree\n",
    "models = []\n",
    "\n",
    "for i in range(0,number_of_estimators):\n",
    "    index_sample = np.random.choice(indices,size = size, replace = True)\n",
    "    model = DecisionTreeClassifier()\n",
    "    model.fit(X_train.values[index_sample], y_train.values[index_sample].reshape(-1,1))\n",
    "    models.append(model)\n",
    "\n",
    "res = np.array([m.predict(X_val.values) for m in models]).T\n",
    "\n",
    "def mode(arr):\n",
    "    c = Counter(arr)\n",
    "    return max(c, key=c.get)\n",
    "    \n",
    "np.sum(np.array(list(map(mode, res))) == y_val)/len(y_val)"
   ]
  },
  {
   "cell_type": "code",
   "execution_count": 114,
   "metadata": {},
   "outputs": [
    {
     "data": {
      "text/plain": [
       "0.9927272727272727"
      ]
     },
     "execution_count": 114,
     "metadata": {},
     "output_type": "execute_result"
    }
   ],
   "source": [
    "from sklearn.linear_model import LogisticRegression\n",
    "number_of_estimators = 30\n",
    "\n",
    "#logisitic\n",
    "models = []\n",
    "\n",
    "for i in range(0,number_of_estimators):\n",
    "    index_sample = np.random.choice(indices,size = size, replace = True)\n",
    "    model = LogisticRegression(solver = 'lbfgs')\n",
    "    model.fit(X_train.values[index_sample], y_train.values[index_sample])\n",
    "    models.append(model)\n",
    "\n",
    "res = np.array([m.predict(X_val.values) for m in models]).T\n",
    "\n",
    "def mode(arr):\n",
    "    c = Counter(arr)\n",
    "    return max(c, key=c.get)\n",
    "    \n",
    "np.sum(np.array(list(map(mode, res))) == y_val)/len(y_val)"
   ]
  },
  {
   "cell_type": "code",
   "execution_count": 132,
   "metadata": {},
   "outputs": [],
   "source": [
    "# genrate a linear regression problem\n",
    "\n",
    "def generate_regression_data(N, p):\n",
    "    \n",
    "    X = np.random.uniform(0,1,(N,p))\n",
    "    beta = np.random.normal(4,10,p+1)\n",
    "    alpha, beta = beta[0], beta[1:]\n",
    "    Y = alpha + np.matmul(X,beta) + np.random.uniform(0,1,len(X))\n",
    "    \n",
    "\n",
    "    split = int(0.8*len(X))\n",
    "    X_train, y_train = X[:split], Y[:split]\n",
    "    X_val, y_val = X[split:], Y[split:]\n",
    "    \n",
    "    return X_train, y_train, X_val, y_val"
   ]
  },
  {
   "cell_type": "code",
   "execution_count": 133,
   "metadata": {},
   "outputs": [],
   "source": [
    "X_train, y_train, X_val, y_val = generate_regression_data(100,10)\n",
    "\n",
    "indices = np.arange(len(X_train))\n",
    "size = int(0.5*len(X_train))"
   ]
  },
  {
   "cell_type": "code",
   "execution_count": 144,
   "metadata": {},
   "outputs": [
    {
     "data": {
      "text/plain": [
       "0.06309932732632965"
      ]
     },
     "execution_count": 144,
     "metadata": {},
     "output_type": "execute_result"
    }
   ],
   "source": [
    "from sklearn.linear_model import LinearRegression\n",
    "\n",
    "number_of_estimators = 20\n",
    "\n",
    "#tree\n",
    "models = []\n",
    "\n",
    "for i in range(0,number_of_estimators):\n",
    "    index_sample = np.random.choice(indices,size = size, replace = True)\n",
    "    model = LinearRegression()\n",
    "    model.fit(X_train[index_sample], y_train[index_sample])\n",
    "    models.append(model)\n",
    "\n",
    "res = np.array([m.predict(X_val) for m in models]).T\n",
    "\n",
    "\n",
    "diff = np.array(list(map(np.mean, res))) - y_val\n",
    "MSE = np.mean(diff**2)\n",
    "MSE"
   ]
  },
  {
   "cell_type": "code",
   "execution_count": null,
   "metadata": {},
   "outputs": [],
   "source": []
  }
 ],
 "metadata": {
  "kernelspec": {
   "display_name": "Python 3",
   "language": "python",
   "name": "python3"
  },
  "language_info": {
   "codemirror_mode": {
    "name": "ipython",
    "version": 3
   },
   "file_extension": ".py",
   "mimetype": "text/x-python",
   "name": "python",
   "nbconvert_exporter": "python",
   "pygments_lexer": "ipython3",
   "version": "3.7.4"
  }
 },
 "nbformat": 4,
 "nbformat_minor": 2
}
