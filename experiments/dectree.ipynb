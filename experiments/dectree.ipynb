{
 "cells": [
  {
   "cell_type": "code",
   "execution_count": 1,
   "metadata": {},
   "outputs": [],
   "source": [
    "import numpy as np\n",
    "import pandas as pd"
   ]
  },
  {
   "cell_type": "code",
   "execution_count": 2,
   "metadata": {},
   "outputs": [],
   "source": [
    "class Node:\n",
    "    def __init__(self, feature_index, split_value, left_indices, right_indices):\n",
    "        self.feature_index = feature_index\n",
    "        self.split_value = split_value\n",
    "        self.left_indices = left_indices\n",
    "        self.right_indices = right_indices\n",
    "        self.left = None\n",
    "        self.right = None\n",
    "        \n",
    "        \n",
    "    def __str__(self):\n",
    "        return 'values = ' + str(self.split_value) +', index = '+ str(self.feature_index)"
   ]
  },
  {
   "cell_type": "code",
   "execution_count": 3,
   "metadata": {},
   "outputs": [],
   "source": [
    "def gini_impurity(array, classes):\n",
    "    psquared = 0\n",
    "    n = len(array)\n",
    "    for x in classes:\n",
    "        p_temp = np.sum(array == x)/n\n",
    "        psquared+=p_temp*p_temp\n",
    "    return 1 - psquared\n",
    "\n",
    "def entropy(array, classes):\n",
    "    ent = 0\n",
    "    n = len(array)\n",
    "    for x in classes:\n",
    "        p_temp = np.sum(array == x)/n\n",
    "        ent+=-p_temp*np.log(p_temp)\n",
    "    return ent\n",
    "\n",
    "def weighted_average(array1, array2, classes, p_1, p_2):\n",
    "    if len(array1) == 0:\n",
    "        gini_1 = 0\n",
    "    else:\n",
    "        gini_1 = gini_impurity(array1, classes)\n",
    "    \n",
    "    if len(array2) == 0:\n",
    "        gini_2 = 0\n",
    "    else:\n",
    "        gini_2 = gini_impurity(array2, classes)\n",
    "\n",
    "    return p_1*gini_1 + p_2*gini_2\n",
    "\n",
    "def index( target_groups, classes):\n",
    "    N = len(target_groups[0])+len(target_groups[1])\n",
    "    p1,p2 = len(target_groups[0])/N, len(target_groups[1])/N\n",
    "    return weighted_average( target_groups[0], target_groups[1], classes,p1,p2)\n",
    "\n",
    "\n"
   ]
  },
  {
   "cell_type": "code",
   "execution_count": 4,
   "metadata": {},
   "outputs": [],
   "source": [
    "#new way\n",
    "\n",
    "def generic_split(feature_index, value, Xdataset):\n",
    "    column = Xdataset[:,feature_index]\n",
    "    \n",
    "    _all = set(range(0,len(column)))\n",
    "    left = set(np.where(column < value)[0])\n",
    "    right = _all - left\n",
    "            \n",
    "    return left, right\n",
    "\n",
    "def get_data_from_idx(left, right, X, Y):\n",
    "    assert(isinstance(left,set))\n",
    "    assert(isinstance(right,set))\n",
    "    \n",
    "    ly, ry, lx, rx = Y[list(left)], Y[list(right)], X[list(left)], X[list(right)]\n",
    "    return ly, ry, lx, rx\n",
    "\n",
    "def best_split(Xdataset, Ydataset):\n",
    "    N = len(Xdataset)\n",
    "    feature_space = len(Xdataset[0])\n",
    "    g = np.inf\n",
    "    v = None\n",
    "    feature = None\n",
    "    group = []\n",
    "    \n",
    "    for i in range(0,N):\n",
    "        for j in range(0,feature_space):\n",
    "            left,right = generic_split(j,Xdataset[i][j],Xdataset)\n",
    "            ly, ry, lx, rx = get_data_from_idx(left, right, Xdataset, Ydataset)\n",
    "            g_index = index([ly,ry],list(set(Ydataset)))\n",
    "            if g_index < g:\n",
    "                g = g_index\n",
    "                feature = j\n",
    "                value = Xdataset[i][feature]\n",
    "                group = [left,right]#[[lx,ly],[rx,ry]]\n",
    "    result = Node(feature, value, left, right)#Node(feature, value, group)\n",
    "    return result"
   ]
  },
  {
   "cell_type": "code",
   "execution_count": 27,
   "metadata": {},
   "outputs": [],
   "source": [
    "def terminate_with_mode(targets):\n",
    "    from collections import Counter\n",
    "    c = Counter(targets)\n",
    "    return c"
   ]
  },
  {
   "cell_type": "code",
   "execution_count": 67,
   "metadata": {},
   "outputs": [],
   "source": [
    "def main_split(X,y, root, max_depth, min_size, depth):\n",
    "    left_Y, right_Y, left_X, right_X = get_data_from_idx(root.left_indices, root.right_indices, X, y)\n",
    "    \n",
    "    \n",
    "    if len(left_Y) == 0 or len(right_Y) == 0:\n",
    "        root.left = root.right = terminate_with_mode(np.concatenate((left_Y,right_Y)))\n",
    "        return\n",
    "\n",
    "    if depth >= max_depth:\n",
    "        root.left = terminate_with_mode(left_Y)\n",
    "        root.right = terminate_with_mode(right_Y)\n",
    "        return \n",
    "\n",
    "    if len(left_Y) <  min_size:\n",
    "        root.left = terminate_with_mode(left_Y)\n",
    "    else:\n",
    "        root.left = best_split(left_X, left_Y)\n",
    "        main_split(X,y, root.left, max_depth, min_size, depth+1)\n",
    "\n",
    "    if len(right_Y) <  min_size:\n",
    "        root.right = terminate_with_mode(right_Y)\n",
    "    else:\n",
    "        root.right = best_split(right_X, right_Y)\n",
    "        main_split(X,y,root.right, max_depth, min_size, depth+1)\n"
   ]
  },
  {
   "cell_type": "code",
   "execution_count": 68,
   "metadata": {},
   "outputs": [],
   "source": [
    "def build_tree(X_train,y_train, max_depth, min_size):\n",
    "    root = best_split( X_train,y_train)\n",
    "    main_split(X_train, y_train,root, max_depth, min_size, 1)\n",
    "    return root\n",
    "\n",
    "def predict(model, datapoint):\n",
    "    value = model.split_value\n",
    "    index = model.feature_index\n",
    "    while True:\n",
    "        if datapoint[index] <= value:\n",
    "            model = model.left\n",
    "            if isinstance(model,Node):\n",
    "                value = model.split_value\n",
    "                index = model.feature_index\n",
    "            else:\n",
    "                result = model\n",
    "                break\n",
    "        else:\n",
    "            model = model.right\n",
    "            if isinstance(model,Node):\n",
    "                value = model.split_value\n",
    "                index = model.feature_index\n",
    "            else:\n",
    "                result = model\n",
    "                break\n",
    "    return result"
   ]
  },
  {
   "cell_type": "code",
   "execution_count": 69,
   "metadata": {},
   "outputs": [],
   "source": [
    "df = pd.read_csv('banknotes.txt', header =None)\n",
    "\n",
    "df = df.sample(frac = 1)\n",
    "df.columns = ['X_0','X_1','X_2','X_3','Y']\n",
    "X = df[['X_0','X_1','X_2','X_3']].values\n",
    "y = df['Y'].values\n",
    "\n"
   ]
  },
  {
   "cell_type": "code",
   "execution_count": 72,
   "metadata": {},
   "outputs": [],
   "source": [
    "X = X[:100]\n",
    "y = y[:100]\n",
    "\n",
    "root = build_tree(X,y,100,2)"
   ]
  },
  {
   "cell_type": "code",
   "execution_count": 73,
   "metadata": {},
   "outputs": [
    {
     "data": {
      "text/plain": [
       "[(Counter({1: 4, 0: 5}), 1),\n",
       " (Counter({1: 4, 0: 5}), 1),\n",
       " (Counter({1: 4, 0: 5}), 1),\n",
       " (Counter({1: 17, 0: 38}), 0),\n",
       " (Counter({1: 17, 0: 38}), 0),\n",
       " (Counter({1: 17, 0: 38}), 0),\n",
       " (Counter({1: 17, 0: 38}), 0),\n",
       " (Counter({1: 17, 0: 38}), 0),\n",
       " (Counter({1: 4, 0: 5}), 1),\n",
       " (Counter({1: 17, 0: 38}), 0),\n",
       " (Counter({1: 17, 0: 38}), 0),\n",
       " (Counter({1: 17, 0: 38}), 1),\n",
       " (Counter({1: 1}), 0),\n",
       " (Counter({1: 4, 0: 5}), 1),\n",
       " (Counter({1: 4, 0: 5}), 1),\n",
       " (Counter({1: 1}), 0),\n",
       " (Counter({1: 4, 0: 5}), 1),\n",
       " (Counter({1: 17, 0: 38}), 0),\n",
       " (Counter({1: 4, 0: 5}), 1),\n",
       " (Counter({1: 17, 0: 38}), 0),\n",
       " (Counter({1: 17, 0: 38}), 0),\n",
       " (Counter({1: 17, 0: 38}), 0),\n",
       " (Counter({1: 4, 0: 5}), 1),\n",
       " (Counter({1: 17, 0: 38}), 0),\n",
       " (Counter({1: 17, 0: 38}), 0),\n",
       " (Counter({1: 17, 0: 38}), 0),\n",
       " (Counter({1: 4, 0: 5}), 1),\n",
       " (Counter({1: 17, 0: 38}), 1),\n",
       " (Counter({1: 17, 0: 38}), 0),\n",
       " (Counter({1: 17, 0: 38}), 0),\n",
       " (Counter({1: 17, 0: 38}), 0),\n",
       " (Counter({1: 17, 0: 38}), 0),\n",
       " (Counter({1: 17, 0: 38}), 0),\n",
       " (Counter({1: 17, 0: 38}), 0),\n",
       " (Counter({1: 4, 0: 5}), 1),\n",
       " (Counter({1: 17, 0: 38}), 0),\n",
       " (Counter({1: 17, 0: 38}), 1),\n",
       " (Counter({1: 17, 0: 38}), 0),\n",
       " (Counter({1: 17, 0: 38}), 0),\n",
       " (Counter({1: 17, 0: 38}), 0),\n",
       " (Counter({1: 17, 0: 38}), 0),\n",
       " (Counter({1: 17, 0: 38}), 0),\n",
       " (Counter({1: 17, 0: 38}), 0),\n",
       " (Counter({1: 17, 0: 38}), 0),\n",
       " (Counter({1: 4, 0: 5}), 1),\n",
       " (Counter({1: 17, 0: 38}), 0),\n",
       " (Counter({1: 4, 0: 5}), 1),\n",
       " (Counter({1: 17, 0: 38}), 0),\n",
       " (Counter({1: 17, 0: 38}), 0),\n",
       " (Counter({1: 17, 0: 38}), 0),\n",
       " (Counter({1: 4, 0: 5}), 1),\n",
       " (Counter({1: 17, 0: 38}), 0),\n",
       " (Counter({1: 17, 0: 38}), 0),\n",
       " (Counter({1: 17, 0: 38}), 0),\n",
       " (Counter({1: 17, 0: 38}), 0),\n",
       " (Counter({1: 17, 0: 38}), 0),\n",
       " (Counter({1: 4, 0: 5}), 1),\n",
       " (Counter({1: 17, 0: 38}), 0),\n",
       " (Counter({1: 17, 0: 38}), 0),\n",
       " (Counter({1: 17, 0: 38}), 1),\n",
       " (Counter({1: 1}), 0),\n",
       " (Counter({1: 17, 0: 38}), 0),\n",
       " (Counter({1: 4, 0: 5}), 1),\n",
       " (Counter({1: 4, 0: 5}), 1),\n",
       " (Counter({1: 17, 0: 38}), 0),\n",
       " (Counter({1: 17, 0: 38}), 0),\n",
       " (Counter({1: 4, 0: 5}), 1),\n",
       " (Counter({1: 1}), 1),\n",
       " (Counter({1: 4, 0: 5}), 1),\n",
       " (Counter({1: 17, 0: 38}), 0),\n",
       " (Counter({1: 17, 0: 38}), 0),\n",
       " (Counter({1: 17, 0: 38}), 0),\n",
       " (Counter({1: 17, 0: 38}), 0),\n",
       " (Counter({1: 4, 0: 5}), 1),\n",
       " (Counter({1: 17, 0: 38}), 0),\n",
       " (Counter({1: 4, 0: 5}), 1),\n",
       " (Counter({1: 4, 0: 5}), 1),\n",
       " (Counter({1: 4, 0: 5}), 1),\n",
       " (Counter({1: 17, 0: 38}), 0),\n",
       " (Counter({1: 17, 0: 38}), 0),\n",
       " (Counter({1: 4, 0: 5}), 1),\n",
       " (Counter({1: 17, 0: 38}), 0),\n",
       " (Counter({1: 4, 0: 5}), 1),\n",
       " (Counter({1: 4, 0: 5}), 1),\n",
       " (Counter({1: 4, 0: 5}), 1),\n",
       " (Counter({1: 4, 0: 5}), 1),\n",
       " (Counter({1: 4, 0: 5}), 1),\n",
       " (Counter({1: 4, 0: 5}), 1),\n",
       " (Counter({1: 17, 0: 38}), 1),\n",
       " (Counter({1: 17, 0: 38}), 0),\n",
       " (Counter({1: 17, 0: 38}), 0),\n",
       " (Counter({1: 4, 0: 5}), 1),\n",
       " (Counter({1: 4, 0: 5}), 1),\n",
       " (Counter({1: 17, 0: 38}), 0),\n",
       " (Counter({1: 17, 0: 38}), 0),\n",
       " (Counter({1: 17, 0: 38}), 1),\n",
       " (Counter({1: 4, 0: 5}), 1),\n",
       " (Counter({1: 4, 0: 5}), 1),\n",
       " (Counter({1: 4, 0: 5}), 1),\n",
       " (Counter({1: 4, 0: 5}), 1)]"
      ]
     },
     "execution_count": 73,
     "metadata": {},
     "output_type": "execute_result"
    }
   ],
   "source": [
    "[(predict(root, X[i]),y[i]) for i in range(0,len(X))]"
   ]
  },
  {
   "cell_type": "code",
   "execution_count": 37,
   "metadata": {},
   "outputs": [],
   "source": [
    "dataset = [[2.771244718,1.784783929,0],\n",
    "\t[1.728571309,1.169761413,0],\n",
    "\t[3.678319846,2.81281357,0],\n",
    "\t[3.961043357,2.61995032,0],\n",
    "\t[2.999208922,2.209014212,0],\n",
    "\t[7.497545867,3.162953546,1],\n",
    "\t[9.00220326,3.339047188,1],\n",
    "\t[7.444542326,0.476683375,1],\n",
    "\t[10.12493903,3.234550982,1],\n",
    "\t[6.642287351,3.319983761,1]]\n",
    "dataset = np.array(dataset)"
   ]
  },
  {
   "cell_type": "code",
   "execution_count": 38,
   "metadata": {},
   "outputs": [],
   "source": [
    "y = dataset[:,2]\n",
    "X = dataset[:,0:2]"
   ]
  },
  {
   "cell_type": "code",
   "execution_count": 58,
   "metadata": {},
   "outputs": [],
   "source": [
    "root = build_tree(X,y,2,1)"
   ]
  },
  {
   "cell_type": "code",
   "execution_count": 59,
   "metadata": {},
   "outputs": [
    {
     "data": {
      "text/plain": [
       "[(Counter({0.0: 5, 1.0: 2}), 0.0),\n",
       " (Counter({0.0: 5, 1.0: 2}), 0.0),\n",
       " (Counter({0.0: 5, 1.0: 2}), 0.0),\n",
       " (Counter({0.0: 5, 1.0: 2}), 0.0),\n",
       " (Counter({0.0: 5, 1.0: 2}), 0.0),\n",
       " (Counter({0.0: 1}), 1.0),\n",
       " (Counter({0.0: 1}), 1.0),\n",
       " (Counter({0.0: 1}), 1.0),\n",
       " (Counter({0.0: 1}), 1.0),\n",
       " (Counter({0.0: 5, 1.0: 2}), 1.0)]"
      ]
     },
     "execution_count": 59,
     "metadata": {},
     "output_type": "execute_result"
    }
   ],
   "source": [
    "[(predict(root, X[i]),y[i]) for i in range(0,len(X))]"
   ]
  },
  {
   "cell_type": "code",
   "execution_count": 233,
   "metadata": {},
   "outputs": [
    {
     "ename": "AttributeError",
     "evalue": "'ModeResult' object has no attribute 'left'",
     "output_type": "error",
     "traceback": [
      "\u001b[0;31m---------------------------------------------------------------------------\u001b[0m",
      "\u001b[0;31mAttributeError\u001b[0m                            Traceback (most recent call last)",
      "\u001b[0;32m<ipython-input-233-75a18734a340>\u001b[0m in \u001b[0;36m<module>\u001b[0;34m\u001b[0m\n\u001b[0;32m----> 1\u001b[0;31m \u001b[0mroot\u001b[0m\u001b[0;34m.\u001b[0m\u001b[0mleft\u001b[0m\u001b[0;34m.\u001b[0m\u001b[0mleft\u001b[0m\u001b[0;34m\u001b[0m\u001b[0;34m\u001b[0m\u001b[0m\n\u001b[0m",
      "\u001b[0;31mAttributeError\u001b[0m: 'ModeResult' object has no attribute 'left'"
     ]
    }
   ],
   "source": [
    "root.left.left"
   ]
  },
  {
   "cell_type": "code",
   "execution_count": null,
   "metadata": {},
   "outputs": [],
   "source": []
  }
 ],
 "metadata": {
  "kernelspec": {
   "display_name": "Python 3.6.9 64-bit ('ml_env': conda)",
   "language": "python",
   "name": "python36964bitmlenvconda9f54039d931e4029adcffd4ea832f0f0"
  },
  "language_info": {
   "codemirror_mode": {
    "name": "ipython",
    "version": 3
   },
   "file_extension": ".py",
   "mimetype": "text/x-python",
   "name": "python",
   "nbconvert_exporter": "python",
   "pygments_lexer": "ipython3",
   "version": "3.6.9"
  }
 },
 "nbformat": 4,
 "nbformat_minor": 2
}
