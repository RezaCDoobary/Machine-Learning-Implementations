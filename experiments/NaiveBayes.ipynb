{
 "cells": [
  {
   "cell_type": "code",
   "execution_count": 42,
   "metadata": {
    "collapsed": true
   },
   "outputs": [],
   "source": [
    "import pandas as pd\n",
    "import numpy as np"
   ]
  },
  {
   "cell_type": "code",
   "execution_count": 43,
   "metadata": {
    "collapsed": true
   },
   "outputs": [],
   "source": [
    "df = pd.read_csv('banknotes.txt', header = None)\n",
    "df.columns = ['X_0','X_1','X_2','X_3','Y']\n",
    "X = df[['X_0','X_1','X_2','X_3']].values\n",
    "y = df['Y'].values"
   ]
  },
  {
   "cell_type": "code",
   "execution_count": 44,
   "metadata": {},
   "outputs": [
    {
     "data": {
      "text/plain": [
       "3.141592653589793"
      ]
     },
     "execution_count": 44,
     "metadata": {},
     "output_type": "execute_result"
    }
   ],
   "source": [
    "np.pi"
   ]
  },
  {
   "cell_type": "code",
   "execution_count": 45,
   "metadata": {
    "collapsed": true
   },
   "outputs": [],
   "source": [
    "class Normal:\n",
    "    def __init__(self, mu, sigma):\n",
    "        self.mu = mu\n",
    "        self.sigma = sigma\n",
    "    \n",
    "    def prob(self, x):\n",
    "        prefactor = 1/np.sqrt(2*np.pi*self.sigma*self.sigma)\n",
    "        exponent = -(1/(2*self.sigma*self.sigma))*(x - self.mu)*(x-self.mu)\n",
    "        result = prefactor*np.exp(exponent)\n",
    "        return result"
   ]
  },
  {
   "cell_type": "code",
   "execution_count": 54,
   "metadata": {},
   "outputs": [],
   "source": [
    "def get_features(X,y):\n",
    "    feature_parameters = {}\n",
    "    classes_indices = {}\n",
    "    pCk = {}\n",
    "    class_set = list(set(y))\n",
    "    for c in class_set:\n",
    "        pCk[c] = (y == c).sum()/len(y)\n",
    "        classes_indices[c] = np.where(y == c)[0]\n",
    "\n",
    "    for c,v in classes_indices.items():\n",
    "        x = X[v]\n",
    "        temp = {}\n",
    "        for i,col in enumerate(['X_0','X_1','X_2','X_3']):\n",
    "            temp[col] = [x[:,i].mean(),x[:,i].std()]\n",
    "            feature_parameters[c] = temp\n",
    "    \n",
    "    return feature_parameters, pCk"
   ]
  },
  {
   "cell_type": "code",
   "execution_count": 55,
   "metadata": {},
   "outputs": [],
   "source": [
    "class p_x_ck:\n",
    "    def __init__(self, feature_parameter):\n",
    "        self.feature_parameter = feature_parameter\n",
    "        \n",
    "    def _get_probs(self, ck):\n",
    "        parameters = list(feature_parameters[ck].values())\n",
    "        dists = [Normal(p[0],p[1]) for p in parameters]\n",
    "        return dists\n",
    "    \n",
    "    def get(self,datapoint, ck):\n",
    "        res = 1\n",
    "        for pairs in list(zip(self._get_probs(ck),datapoint)):\n",
    "            res*=pairs[0].prob(pairs[1])\n",
    "        return res"
   ]
  },
  {
   "cell_type": "code",
   "execution_count": 69,
   "metadata": {},
   "outputs": [],
   "source": [
    "class NaiveBayes:\n",
    "    def __init__(self):\n",
    "        self.feature_parameters = None\n",
    "        self.pCk = None\n",
    "        self.pck = None\n",
    "    \n",
    "    def train(self, X,y):\n",
    "        self.feature_parameters, self.pCk = get_features(X,y)\n",
    "        self.pck = p_x_ck(self.feature_parameters)\n",
    "        \n",
    "    def predict(self, datapoint, c):\n",
    "        return pck.get(datapoint,c)*pCk[c]\n",
    "    "
   ]
  },
  {
   "cell_type": "code",
   "execution_count": 70,
   "metadata": {
    "collapsed": true
   },
   "outputs": [],
   "source": [
    "nb = NaiveBayes()\n",
    "nb.train(X,y)\n"
   ]
  },
  {
   "cell_type": "code",
   "execution_count": 74,
   "metadata": {},
   "outputs": [],
   "source": [
    "y_pred = []\n",
    "for x in X:\n",
    "    y_pred.append(np.argmax([nb.predict(x,0),nb.predict(x,1)]))"
   ]
  },
  {
   "cell_type": "code",
   "execution_count": 77,
   "metadata": {},
   "outputs": [
    {
     "data": {
      "text/plain": [
       "0.84110787172011658"
      ]
     },
     "execution_count": 77,
     "metadata": {},
     "output_type": "execute_result"
    }
   ],
   "source": [
    "np.array(np.array(y_pred) == y).sum()/len(y)"
   ]
  }
 ],
 "metadata": {
  "kernelspec": {
   "display_name": "Python [default]",
   "language": "python",
   "name": "python3"
  },
  "language_info": {
   "codemirror_mode": {
    "name": "ipython",
    "version": 3
   },
   "file_extension": ".py",
   "mimetype": "text/x-python",
   "name": "python",
   "nbconvert_exporter": "python",
   "pygments_lexer": "ipython3",
   "version": "3.6.5"
  }
 },
 "nbformat": 4,
 "nbformat_minor": 2
}
