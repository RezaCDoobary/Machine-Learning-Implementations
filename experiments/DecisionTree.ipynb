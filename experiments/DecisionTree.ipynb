{
 "cells": [
  {
   "cell_type": "raw",
   "metadata": {},
   "source": [
    "practice for decision tree implemenation\n",
    "\n",
    "data from http://archive.ics.uci.edu/ml/datasets/banknote+authentication\n",
    "\n",
    "implementation assistance via https://machinelearningmastery.com/implement-decision-tree-algorithm-scratch-python/"
   ]
  },
  {
   "cell_type": "code",
   "execution_count": 549,
   "metadata": {
    "collapsed": true
   },
   "outputs": [],
   "source": [
    "import pandas as pd\n",
    "import numpy as np\n"
   ]
  },
  {
   "cell_type": "code",
   "execution_count": 550,
   "metadata": {
    "collapsed": true
   },
   "outputs": [],
   "source": [
    "class sets_and_batch:\n",
    "    def __init__(self, X, y):\n",
    "        self.X = X\n",
    "        self.y = y\n",
    "        self.size = X.shape\n",
    "        self.N = self.size[0]\n",
    "        X_fold = None\n",
    "        y_fold = None\n",
    "    \n",
    "    def to_set(self, k):\n",
    "        idx = np.arange(self.N)\n",
    "        [np.random.shuffle(idx) for i in range(0,10)]\n",
    "        sets = [i*int(self.N/k) for i in range(0,k+1)]\n",
    "        \n",
    "        X_kfold, y_kfold = {}, {}\n",
    "\n",
    "        for i in range(0,k):\n",
    "            x_beg = self.X[sets[0]:sets[i]]\n",
    "            x_val = self.X[sets[i]:sets[i+1]]\n",
    "            x_rem = self.X[sets[i+1]:]\n",
    "\n",
    "            y_beg = self.y[sets[0]:sets[i]]\n",
    "            y_val = self.y[sets[i]:sets[i+1]]\n",
    "            y_rem = self.y[sets[i+1]:]\n",
    "\n",
    "            x_train = np.concatenate((x_beg, x_rem), 0)\n",
    "            X_kfold[i] = {}\n",
    "            X_kfold[i]['train'] = x_train\n",
    "            X_kfold[i]['val'] = x_val\n",
    "\n",
    "            y_train = np.concatenate((y_beg, y_rem), 0)\n",
    "            y_kfold[i] = {}\n",
    "            y_kfold[i]['train'] = y_train\n",
    "            y_kfold[i]['val'] = y_val\n",
    "            \n",
    "        self.X_fold = X_kfold\n",
    "        self.y_fold = y_kfold\n",
    "        \n",
    "    def get_fold(self,i):\n",
    "        return self.X_fold[i], self.y_fold[i]"
   ]
  },
  {
   "cell_type": "code",
   "execution_count": 551,
   "metadata": {
    "collapsed": true
   },
   "outputs": [],
   "source": [
    "class Node:\n",
    "    def __init__(self, feature_index, split_value, groups):\n",
    "        self.feature_index = feature_index\n",
    "        self.split_value = split_value\n",
    "        self.groups = groups\n",
    "        self.left = None\n",
    "        self.right = None\n",
    "        \n",
    "        \n",
    "    def __str__(self):\n",
    "        return 'values = ' + str(self.split_value) +', index = '+ str(self.feature_index)"
   ]
  },
  {
   "cell_type": "code",
   "execution_count": 552,
   "metadata": {
    "collapsed": true
   },
   "outputs": [],
   "source": [
    "def gini_index(target_groups, classes):\n",
    "    N = len(target_groups[0]+target_groups[1])\n",
    "    gini = 0\n",
    "    for t in target_groups:\n",
    "        s = 0\n",
    "        if len(t)==0:\n",
    "            continue\n",
    "        for c in classes:\n",
    "            temp = t.count(c)/len(t)\n",
    "            temp = temp*temp\n",
    "            s+=temp\n",
    "        gini+=(1-s)*(len(t)/N)\n",
    "    return gini"
   ]
  },
  {
   "cell_type": "code",
   "execution_count": 553,
   "metadata": {
    "collapsed": true
   },
   "outputs": [],
   "source": [
    "def generic_split(feature_index, value, Xdataset,Ydataset):\n",
    "    lX,rX,lY,rY = [],[],[],[]\n",
    "    \n",
    "    for i in range(0,len(Xdataset)):\n",
    "        row = Xdataset[i]\n",
    "        target = Ydataset[i]\n",
    "        if row[feature_index] < value:\n",
    "            lX.append(row)\n",
    "            lY.append(target)\n",
    "        else:\n",
    "            rX.append(row)\n",
    "            rY.append(target)\n",
    "            \n",
    "    return lX,lY,rX,rY"
   ]
  },
  {
   "cell_type": "code",
   "execution_count": 554,
   "metadata": {
    "collapsed": true
   },
   "outputs": [],
   "source": [
    "#split according to smallest gini_index"
   ]
  },
  {
   "cell_type": "code",
   "execution_count": 555,
   "metadata": {
    "collapsed": true
   },
   "outputs": [],
   "source": [
    "def best_split(Xdataset, Ydataset):\n",
    "    N = len(Xdataset)\n",
    "    feature_space = len(Xdataset[0])\n",
    "    g = np.inf\n",
    "    v = None\n",
    "    feature = None\n",
    "    group = []\n",
    "    \n",
    "    for i in range(0,N):\n",
    "        for j in range(0,feature_space):\n",
    "            lx,ly,rx,ry = generic_split(j,Xdataset[i][j],Xdataset,Ydataset)\n",
    "            g_index = gini_index([ly,ry],list(set(Ydataset)))\n",
    "            #print('X%d < %.3f Gini=%.3f' % ((j+1), Xdataset[i][j], g_index))\n",
    "            if g_index < g:\n",
    "                g = g_index\n",
    "                feature = j\n",
    "                value = Xdataset[i][feature]\n",
    "                group = [[lx,ly],[rx,ry]]\n",
    "    result = Node(feature, value, group)\n",
    "    return result"
   ]
  },
  {
   "cell_type": "code",
   "execution_count": 556,
   "metadata": {
    "collapsed": true
   },
   "outputs": [],
   "source": [
    "def to_terminal(targets):\n",
    "    from scipy import stats\n",
    "    return stats.mode(targets)"
   ]
  },
  {
   "cell_type": "code",
   "execution_count": 557,
   "metadata": {
    "collapsed": true
   },
   "outputs": [],
   "source": [
    "def main_split(root, max_depth, min_size, depth):\n",
    "    left_X,left_Y = root.groups[0]\n",
    "    right_X,right_Y = root.groups[1]\n",
    "    \n",
    "    if not left_Y or not right_Y:\n",
    "        root.left = root.right = to_terminal(left_Y + right_Y)\n",
    "        return\n",
    "\n",
    "    if depth >= max_depth:\n",
    "        root.left = to_terminal(left_Y)\n",
    "        root.right = to_terminal(right_Y)\n",
    "        return \n",
    "\n",
    "    if len(left_Y) <  min_size:\n",
    "        root.left = to_terminal(left_Y)\n",
    "    else:\n",
    "        root.left = best_split(left_X, left_Y)\n",
    "        main_split(root.left, max_depth, min_size, depth+1)\n",
    "\n",
    "    if len(right_Y) <  min_size:\n",
    "        root.right = to_terminal(right_Y)\n",
    "    else:\n",
    "        root.right = best_split(right_X, right_Y)\n",
    "        main_split(root.right, max_depth, min_size, depth+1)\n",
    "\n"
   ]
  },
  {
   "cell_type": "code",
   "execution_count": 558,
   "metadata": {
    "collapsed": true
   },
   "outputs": [],
   "source": [
    "def build_tree(X_train,y_train, max_depth, min_size):\n",
    "    root = best_split(X_train,y_train)\n",
    "    main_split(root, max_depth, min_size, 1)\n",
    "    return root"
   ]
  },
  {
   "cell_type": "code",
   "execution_count": 560,
   "metadata": {
    "collapsed": true
   },
   "outputs": [],
   "source": [
    "df = pd.read_csv('banknotes.txt', header = None)\n",
    "df.columns = ['X_0','X_1','X_2','X_3','Y']\n",
    "X = df[['X_0','X_1','X_2','X_3']].values\n",
    "y = df['Y'].values"
   ]
  },
  {
   "cell_type": "code",
   "execution_count": 577,
   "metadata": {
    "collapsed": true
   },
   "outputs": [],
   "source": [
    "def build_agg_tree(X_train,y_train, min_index, num_roots,max_depth, min_size):\n",
    "    N = X_train.shape\n",
    "    if len(N) > 1:\n",
    "        N = N[0]\n",
    "    roots = []\n",
    "    for i in range(num_roots):\n",
    "        idx = np.random.choice(N,int(N/min_index))\n",
    "        X = X_train[idx]\n",
    "        Y = y_train[idx]\n",
    "        root = best_split(X_train,y_train)\n",
    "        main_split(root, max_depth, min_size, 1)\n",
    "        roots.append(root)\n",
    "    return roots"
   ]
  },
  {
   "cell_type": "code",
   "execution_count": 578,
   "metadata": {
    "collapsed": true
   },
   "outputs": [],
   "source": [
    "def predict(model, datapoint):\n",
    "    value = model.split_value\n",
    "    index = model.feature_index\n",
    "    while True:\n",
    "        if datapoint[index] < value:\n",
    "            model = model.left\n",
    "            if isinstance(model,Node):\n",
    "                value = model.split_value\n",
    "                index = model.feature_index\n",
    "            else:\n",
    "                result = model\n",
    "                break\n",
    "        else:\n",
    "            model = model.right\n",
    "            if isinstance(model,Node):\n",
    "                value = model.split_value\n",
    "                index = model.feature_index\n",
    "            else:\n",
    "                result = model\n",
    "                break\n",
    "    return result"
   ]
  },
  {
   "cell_type": "code",
   "execution_count": 548,
   "metadata": {},
   "outputs": [
    {
     "name": "stdout",
     "output_type": "stream",
     "text": [
      "fold 0 0.981751824818\n",
      "fold 1 0.978102189781\n",
      "fold 2 0.967153284672\n",
      "fold 3 0.956204379562\n",
      "fold 4 0.992700729927\n"
     ]
    }
   ],
   "source": [
    "df = pd.read_csv('banknotes.txt', header = None)\n",
    "df.columns = ['X_0','X_1','X_2','X_3','Y']\n",
    "X = df[['X_0','X_1','X_2','X_3']].values\n",
    "y = df['Y'].values\n",
    "\n",
    "snb = sets_and_batch(X,y)\n",
    "snb.to_set(5)\n",
    "\n",
    "for i in range(0,5):\n",
    "    X,Y = snb.get_fold(i)\n",
    "    node = build_tree(X['train'],Y['train'],10,1)\n",
    "    pred = [predict(node,X['val'][i]).mode[0] for i in range(0,len(X['val']))]\n",
    "    result = np.array(Y['val'] == np.array(pred),int).sum()/len(pred)\n",
    "    print('fold ' + str(i),result)"
   ]
  },
  {
   "cell_type": "code",
   "execution_count": 596,
   "metadata": {
    "collapsed": true
   },
   "outputs": [],
   "source": [
    "def predict_agg(models, datapoint):\n",
    "    from scipy import stats\n",
    "    return stats.mode([predict(model,datapoint).mode[0] for model in models]).mode[0]"
   ]
  },
  {
   "cell_type": "code",
   "execution_count": 579,
   "metadata": {
    "collapsed": true
   },
   "outputs": [],
   "source": [
    "df = pd.read_csv('banknotes.txt', header = None)\n",
    "df.columns = ['X_0','X_1','X_2','X_3','Y']\n",
    "X = df[['X_0','X_1','X_2','X_3']].values\n",
    "y = df['Y'].values\n",
    "\n",
    "snb = sets_and_batch(X,y)\n",
    "snb.to_set(5)\n",
    "\n",
    "for i in range(0,5):\n",
    "    X,Y = snb.get_fold(i)\n",
    "    nodes = build_agg_tree(X['train'],Y['train'],4,4,10,1)\n",
    "    pred = [predict_agg(node,X['val'][i]) i in range(0,len(X['val']))]\n",
    "    result = np.array(Y['val'] == np.array(pred),int).sum()/len(pred)\n",
    "    print('fold ' + str(i),result)"
   ]
  },
  {
   "cell_type": "code",
   "execution_count": 583,
   "metadata": {},
   "outputs": [
    {
     "data": {
      "text/plain": [
       "array([ 5.2756 ,  0.13863,  0.12138,  1.1435 ])"
      ]
     },
     "execution_count": 583,
     "metadata": {},
     "output_type": "execute_result"
    }
   ],
   "source": [
    "X['train'][0]"
   ]
  },
  {
   "cell_type": "code",
   "execution_count": 595,
   "metadata": {},
   "outputs": [
    {
     "data": {
      "text/plain": [
       "0"
      ]
     },
     "execution_count": 595,
     "metadata": {},
     "output_type": "execute_result"
    }
   ],
   "source": [
    "from scipy import stats\n",
    "stats.mode([predict(model,X['train'][0]).mode[0] for model in node]).mode[0]"
   ]
  },
  {
   "cell_type": "code",
   "execution_count": null,
   "metadata": {
    "collapsed": true
   },
   "outputs": [],
   "source": []
  }
 ],
 "metadata": {
  "kernelspec": {
   "display_name": "Python 3",
   "language": "python",
   "name": "python3"
  },
  "language_info": {
   "codemirror_mode": {
    "name": "ipython",
    "version": 3
   },
   "file_extension": ".py",
   "mimetype": "text/x-python",
   "name": "python",
   "nbconvert_exporter": "python",
   "pygments_lexer": "ipython3",
   "version": "3.7.4"
  }
 },
 "nbformat": 4,
 "nbformat_minor": 2
}
