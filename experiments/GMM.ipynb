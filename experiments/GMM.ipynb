{
 "cells": [
  {
   "cell_type": "code",
   "execution_count": 69,
   "metadata": {
    "collapsed": true
   },
   "outputs": [],
   "source": [
    "import numpy as np\n",
    "import pandas as pd\n",
    "import matplotlib.pyplot as plt\n",
    "\n",
    "%matplotlib inline"
   ]
  },
  {
   "cell_type": "code",
   "execution_count": 70,
   "metadata": {
    "collapsed": true
   },
   "outputs": [],
   "source": [
    "X = np.random.normal(0,1,100)\n",
    "Y = np.random.normal(3,1,100)\n",
    "Z = np.concatenate([X,Y])"
   ]
  },
  {
   "cell_type": "code",
   "execution_count": 71,
   "metadata": {
    "collapsed": true
   },
   "outputs": [],
   "source": [
    "from scipy import stats as s"
   ]
  },
  {
   "cell_type": "code",
   "execution_count": 72,
   "metadata": {},
   "outputs": [
    {
     "data": {
      "text/plain": [
       "[<matplotlib.lines.Line2D at 0x1a1ddc8978>]"
      ]
     },
     "execution_count": 72,
     "metadata": {},
     "output_type": "execute_result"
    },
    {
     "data": {
      "image/png": "[encoded data removed]",
      "text/plain": [
       "<matplotlib.figure.Figure at 0x1a1dd04a90>"
      ]
     },
     "metadata": {},
     "output_type": "display_data"
    }
   ],
   "source": [
    "fig, ax = plt.subplots(1, 1)\n",
    "x = np.linspace(s.norm(3,1).ppf(0.01),\n",
    "                s.norm(3,1).ppf(0.99), 100)\n",
    "ax.plot(x, s.norm(3,1).pdf(x),\n",
    "       'r-', lw=5, alpha=0.6, label='norm pdf')"
   ]
  },
  {
   "cell_type": "code",
   "execution_count": 73,
   "metadata": {
    "collapsed": true
   },
   "outputs": [],
   "source": [
    "#initialise distributions\n",
    "\n",
    "dist1 = s.norm(-1,1)\n",
    "dist2 = s.norm(5,1)"
   ]
  },
  {
   "cell_type": "code",
   "execution_count": 74,
   "metadata": {},
   "outputs": [],
   "source": [
    "d1 = [dist1.pdf(z) for z in Z]\n",
    "d2 = [dist2.pdf(z) for z in Z]"
   ]
  },
  {
   "cell_type": "code",
   "execution_count": 75,
   "metadata": {},
   "outputs": [],
   "source": [
    "s1, s2 = [],[]\n",
    "for i in range(0,len(Z)):\n",
    "    if d1[i] >= d2[i]:\n",
    "        s1.append(d1[i])\n",
    "    else:\n",
    "        s2.append(d2[i])"
   ]
  },
  {
   "cell_type": "code",
   "execution_count": 76,
   "metadata": {},
   "outputs": [
    {
     "name": "stdout",
     "output_type": "stream",
     "text": [
      "nan nan\n",
      "0.176353992934 0.121120066104\n",
      "0.115738785994 2.57398201507\n",
      "0.426515319949 0.269631827688\n",
      "0.100870897296 2.43950962556\n",
      "0.677049213442 0.22315036589\n",
      "0.140284022136 1.89285516468\n",
      "0.687472388783 0.238153553424\n",
      "0.132342805155 1.13013808457\n",
      "0.902260092936 0.194996068313\n"
     ]
    }
   ],
   "source": [
    "for i in range(0,10):\n",
    "    print(m1,m2)\n",
    "    m1 = np.array(s1).mean()\n",
    "    std1 = np.array(s1).std()\n",
    "\n",
    "    m2 = np.array(s2).mean()\n",
    "    std2 = np.array(s2).std()\n",
    "\n",
    "    dist1 = s.norm(m1,std1)\n",
    "    dist2 = s.norm(m2,std2)\n",
    "\n",
    "    d1 = [dist1.pdf(z) for z in Z]\n",
    "    d2 = [dist2.pdf(z) for z in Z]\n",
    "\n",
    "    s1, s2 = [],[]\n",
    "    for i in range(0,len(Z)):\n",
    "        if d1[i] >= d2[i]:\n",
    "            s1.append(d1[i])\n",
    "        else:\n",
    "            s2.append(d2[i])"
   ]
  },
  {
   "cell_type": "code",
   "execution_count": 52,
   "metadata": {},
   "outputs": [
    {
     "data": {
      "text/plain": [
       "0.63151828359004181"
      ]
     },
     "execution_count": 52,
     "metadata": {},
     "output_type": "execute_result"
    }
   ],
   "source": [
    "m1"
   ]
  },
  {
   "cell_type": "code",
   "execution_count": 53,
   "metadata": {},
   "outputs": [
    {
     "data": {
      "text/plain": [
       "0.70305008801705771"
      ]
     },
     "execution_count": 53,
     "metadata": {},
     "output_type": "execute_result"
    }
   ],
   "source": [
    "std1"
   ]
  },
  {
   "cell_type": "code",
   "execution_count": 54,
   "metadata": {},
   "outputs": [
    {
     "data": {
      "text/plain": [
       "0.18478764705573061"
      ]
     },
     "execution_count": 54,
     "metadata": {},
     "output_type": "execute_result"
    }
   ],
   "source": [
    "m2"
   ]
  },
  {
   "cell_type": "code",
   "execution_count": null,
   "metadata": {
    "collapsed": true
   },
   "outputs": [],
   "source": []
  }
 ],
 "metadata": {
  "kernelspec": {
   "display_name": "Python [default]",
   "language": "python",
   "name": "python3"
  },
  "language_info": {
   "codemirror_mode": {
    "name": "ipython",
    "version": 3
   },
   "file_extension": ".py",
   "mimetype": "text/x-python",
   "name": "python",
   "nbconvert_exporter": "python",
   "pygments_lexer": "ipython3",
   "version": "3.6.5"
  }
 },
 "nbformat": 4,
 "nbformat_minor": 2
}
