{
 "cells": [
  {
   "cell_type": "raw",
   "metadata": {},
   "source": [
    "As an example, we compute the Receiver Operating Characteristic (ROC) with different estimators and compute the AUC (Area under the curve)."
   ]
  },
  {
   "cell_type": "code",
   "execution_count": 155,
   "metadata": {},
   "outputs": [],
   "source": [
    "# data originally came from\n",
    "# http://archive.ics.uci.edu/ml/datasets/Adult"
   ]
  },
  {
   "cell_type": "code",
   "execution_count": 156,
   "metadata": {},
   "outputs": [],
   "source": [
    "import pandas as pd\n",
    "import numpy as np\n",
    "import matplotlib.pyplot as plt\n",
    "\n",
    "%matplotlib inline\n",
    "\n",
    "import warnings\n",
    "warnings.filterwarnings('ignore')"
   ]
  },
  {
   "cell_type": "raw",
   "metadata": {},
   "source": [
    ">50K, <=50K.\n",
    "\n",
    "age: continuous.\n",
    "workclass: Private, Self-emp-not-inc, Self-emp-inc, Federal-gov, Local-gov, State-gov, Without-pay, Never-worked.\n",
    "fnlwgt: continuous.\n",
    "education: Bachelors, Some-college, 11th, HS-grad, Prof-school, Assoc-acdm, Assoc-voc, 9th, 7th-8th, 12th, Masters, 1st-4th, 10th, Doctorate, 5th-6th, Preschool.\n",
    "education-num: continuous.\n",
    "marital-status: Married-civ-spouse, Divorced, Never-married, Separated, Widowed, Married-spouse-absent, Married-AF-spouse.\n",
    "occupation: Tech-support, Craft-repair, Other-service, Sales, Exec-managerial, Prof-specialty, Handlers-cleaners, Machine-op-inspct, Adm-clerical, Farming-fishing, Transport-moving, Priv-house-serv, Protective-serv, Armed-Forces.\n",
    "relationship: Wife, Own-child, Husband, Not-in-family, Other-relative, Unmarried.\n",
    "race: White, Asian-Pac-Islander, Amer-Indian-Eskimo, Other, Black.\n",
    "sex: Female, Male.\n",
    "capital-gain: continuous.\n",
    "capital-loss: continuous.\n",
    "hours-per-week: continuous.\n",
    "native-country: United-States, Cambodia, England, Puerto-Rico, Canada, Germany, Outlying-US(Guam-USVI-etc), India, Japan, Greece, South, China, Cuba, Iran, Honduras, Philippines, Italy, Poland, Jamaica, Vietnam, Mexico, Portugal, Ireland, France, Dominican-Republic, Laos, Ecuador, Taiwan, Haiti, Columbia, Hungary, Guatemala, Nicaragua, Scotland, Thailand, Yugoslavia, El-Salvador, Trinadad&Tobago, Peru, Hong, Holand-Netherlands.\n",
    "\n"
   ]
  },
  {
   "cell_type": "code",
   "execution_count": 157,
   "metadata": {},
   "outputs": [],
   "source": [
    "data = pd.read_csv('adult.data', header = None)\n",
    "data.columns = ['age','workclass','fnlwgt','education','education-num','marital-status','occupation',\\\n",
    "                'relationship','race','sex','capital-gain','capital-loss','hours-per-week','native-country','target']"
   ]
  },
  {
   "cell_type": "markdown",
   "metadata": {},
   "source": [
    "### Preprocessings"
   ]
  },
  {
   "cell_type": "code",
   "execution_count": 158,
   "metadata": {},
   "outputs": [
    {
     "data": {
      "text/plain": [
       "age               0\n",
       "workclass         0\n",
       "fnlwgt            0\n",
       "education         0\n",
       "education-num     0\n",
       "marital-status    0\n",
       "occupation        0\n",
       "relationship      0\n",
       "race              0\n",
       "sex               0\n",
       "capital-gain      0\n",
       "capital-loss      0\n",
       "hours-per-week    0\n",
       "native-country    0\n",
       "target            0\n",
       "dtype: int64"
      ]
     },
     "execution_count": 158,
     "metadata": {},
     "output_type": "execute_result"
    }
   ],
   "source": [
    "data.isnull().sum()"
   ]
  },
  {
   "cell_type": "code",
   "execution_count": 159,
   "metadata": {},
   "outputs": [
    {
     "data": {
      "text/plain": [
       "(32561, 15)"
      ]
     },
     "execution_count": 159,
     "metadata": {},
     "output_type": "execute_result"
    }
   ],
   "source": [
    "data.shape"
   ]
  },
  {
   "cell_type": "code",
   "execution_count": 160,
   "metadata": {},
   "outputs": [],
   "source": [
    "# categorical data\n",
    "\n",
    "categorical = ['workclass','education','marital-status','occupation','race','relationship','sex','native-country','target']"
   ]
  },
  {
   "cell_type": "code",
   "execution_count": 161,
   "metadata": {},
   "outputs": [],
   "source": [
    "from sklearn.preprocessing import OneHotEncoder\n",
    "\n",
    "dfs = []\n",
    "for c in categorical:\n",
    "    enc = OneHotEncoder()\n",
    "    enc.fit(data[c].values.reshape(-1,1))\n",
    "    temp = enc.transform(data[c].values.reshape(-1,1)).toarray()\n",
    "    new_columns = enc.categories_\n",
    "    \n",
    "    if len(new_columns[0]) == 2:\n",
    "        new_columns = np.array([[new_columns[0][1]]])\n",
    "        temp = temp[:,1]\n",
    "    new_columns = [c+'_'+I for I in new_columns[0]]\n",
    "    dfs.append(pd.DataFrame(columns=new_columns,data=temp))\n",
    "    \n",
    "    \n",
    "    \n",
    "categorical_data = pd.concat(dfs,1)\n",
    "continuous_labels = list(set(data.columns) - set(categorical))\n",
    "data = pd.concat([data[continuous_labels], categorical_data],1)\n",
    "\n",
    "Y = data['target_ >50K']\n",
    "cols = list(data.columns)\n",
    "cols.remove('target_ >50K')\n",
    "X = data[cols]\n",
    "\n",
    "X_train, y_train = X,Y"
   ]
  },
  {
   "cell_type": "code",
   "execution_count": 162,
   "metadata": {},
   "outputs": [
    {
     "data": {
      "text/plain": [
       "age               0\n",
       "workclass         0\n",
       "fnlwgt            0\n",
       "education         0\n",
       "education-num     0\n",
       "marital-status    0\n",
       "occupation        0\n",
       "relationship      0\n",
       "race              0\n",
       "sex               0\n",
       "capital-gain      0\n",
       "capital-loss      0\n",
       "hours-per-week    0\n",
       "native-country    0\n",
       "target            0\n",
       "dtype: int64"
      ]
     },
     "execution_count": 162,
     "metadata": {},
     "output_type": "execute_result"
    }
   ],
   "source": [
    "test_data = pd.read_csv('adult.test',skiprows = 1, header = None)\n",
    "test_data.columns = ['age','workclass','fnlwgt','education','education-num','marital-status','occupation',\\\n",
    "                'relationship','race','sex','capital-gain','capital-loss','hours-per-week','native-country','target']\n",
    "test_data.isnull().sum()"
   ]
  },
  {
   "cell_type": "code",
   "execution_count": 163,
   "metadata": {},
   "outputs": [],
   "source": [
    "from sklearn.preprocessing import OneHotEncoder\n",
    "\n",
    "dfs = []\n",
    "for c in categorical:\n",
    "    enc = OneHotEncoder()\n",
    "    enc.fit(test_data[c].values.reshape(-1,1))\n",
    "    temp = enc.transform(test_data[c].values.reshape(-1,1)).toarray()\n",
    "    new_columns = enc.categories_\n",
    "    \n",
    "    if len(new_columns[0]) == 2:\n",
    "        new_columns = np.array([[new_columns[0][1]]])\n",
    "        temp = temp[:,1]\n",
    "    new_columns = [c+'_'+I for I in new_columns[0]]\n",
    "    dfs.append(pd.DataFrame(columns=new_columns,data=temp))\n",
    "    \n",
    "    \n",
    "    \n",
    "categorical_data = pd.concat(dfs,1)\n",
    "continuous_labels = list(set(test_data.columns) - set(categorical))\n",
    "test_data = pd.concat([test_data[continuous_labels], categorical_data],1)\n",
    "\n",
    "Y = test_data['target_ >50K.']\n",
    "cols = list(test_data.columns)\n",
    "cols.remove('target_ >50K.')\n",
    "X = test_data[cols]\n",
    "\n",
    "for cols in list(set(X_train.columns) - set(X_test.columns)):\n",
    "    X[cols] = 0\n",
    "\n",
    "X_test, y_test = X,Y"
   ]
  },
  {
   "cell_type": "code",
   "execution_count": 164,
   "metadata": {},
   "outputs": [],
   "source": [
    "from sklearn.ensemble import RandomForestClassifier\n",
    "from sklearn.linear_model import LogisticRegression\n",
    "from sklearn.tree import DecisionTreeClassifier"
   ]
  },
  {
   "cell_type": "code",
   "execution_count": 165,
   "metadata": {},
   "outputs": [],
   "source": [
    "log = LogisticRegression()\n",
    "log.fit(X_train.values, y_train.values);\n",
    "\n",
    "ranf = RandomForestClassifier()\n",
    "ranf.fit(X_train.values, y_train.values);\n",
    "\n",
    "tree_model = DecisionTreeClassifier()\n",
    "tree_model.fit(X_train.values, y_train.values);\n"
   ]
  },
  {
   "cell_type": "code",
   "execution_count": 219,
   "metadata": {},
   "outputs": [],
   "source": [
    "def get_TF_PN(y_pred, y_actual):\n",
    "\n",
    "    TruePositives = 0\n",
    "    TrueNegatives = 0\n",
    "    FalsePositives = 0\n",
    "    FalseNegatives = 0\n",
    "\n",
    "\n",
    "    for i in range(len(y_actual)):\n",
    "        if y_pred[i] == 1 and y_actual[i] == 1:\n",
    "            TruePositives += 1\n",
    "        elif y_pred[i] == 0 and y_actual[i] == 0:\n",
    "            TrueNegatives += 1\n",
    "        elif y_pred[i] == 0 and y_actual[i] == 1:\n",
    "            FalseNegatives += 1\n",
    "        elif y_pred[i] == 1 and y_actual[i] == 0:\n",
    "            FalsePositives += 1\n",
    "        else:\n",
    "            raise NotImplemented\n",
    "            \n",
    "    return TruePositives, TrueNegatives, FalsePositives, FalseNegatives\n",
    "\n",
    "\n",
    "def get_TPR_FPR(y_pred, y_actual):\n",
    "    TruePositives, TrueNegatives, FalsePositives, FalseNegatives = get_TF_PN(y_pred, y_actual)\n",
    "    TruePositiveRate = TruePositives/(TruePositives + FalseNegatives)\n",
    "    FalsePositiveRate = FalsePositives/(FalsePositives + TrueNegatives)\n",
    "    \n",
    "    return TruePositiveRate, FalsePositiveRate\n",
    "\n",
    "\n",
    "\n",
    "def AUC(FPR, TPR):\n",
    "    \"\"\"\n",
    "    Using standard \n",
    "    \"\"\"\n",
    "\n",
    "    FPR = FPR[::-1]\n",
    "    TPR = TPR[::-1]\n",
    "\n",
    "    FPR = [0.0]+FPR\n",
    "    TPR = [0.0]+TPR\n",
    "\n",
    "\n",
    "    assert(len(FPR) == len(TPR))\n",
    "    areas = []\n",
    "    for i in range(1,len(FPR)):\n",
    "        areas.append(((FPR[i] - FPR[i-1])*(TPR[i] - TPR[i-1]))/2 + (1-FPR[i])*(TPR[i]-TPR[i-1]))\n",
    "\n",
    "    return np.sum(areas)"
   ]
  },
  {
   "cell_type": "code",
   "execution_count": 221,
   "metadata": {},
   "outputs": [
    {
     "name": "stdout",
     "output_type": "stream",
     "text": [
      "Working on RanFor\n"
     ]
    },
    {
     "data": {
      "application/vnd.jupyter.widget-view+json": {
       "model_id": "6bd9126805764480ab29d4722c4152a9",
       "version_major": 2,
       "version_minor": 0
      },
      "text/plain": [
       "HBox(children=(FloatProgress(value=0.0, max=5.0), HTML(value='')))"
      ]
     },
     "metadata": {},
     "output_type": "display_data"
    },
    {
     "name": "stdout",
     "output_type": "stream",
     "text": [
      "\n",
      "Working on Logis\n"
     ]
    },
    {
     "data": {
      "application/vnd.jupyter.widget-view+json": {
       "model_id": "96366984932844e496590505a5c7a0cc",
       "version_major": 2,
       "version_minor": 0
      },
      "text/plain": [
       "HBox(children=(FloatProgress(value=0.0, max=5.0), HTML(value='')))"
      ]
     },
     "metadata": {},
     "output_type": "display_data"
    },
    {
     "name": "stdout",
     "output_type": "stream",
     "text": [
      "\n",
      "Working on Tree\n"
     ]
    },
    {
     "data": {
      "application/vnd.jupyter.widget-view+json": {
       "model_id": "5841441288d54a9988baae65a610cf4a",
       "version_major": 2,
       "version_minor": 0
      },
      "text/plain": [
       "HBox(children=(FloatProgress(value=0.0, max=5.0), HTML(value='')))"
      ]
     },
     "metadata": {},
     "output_type": "display_data"
    },
    {
     "name": "stdout",
     "output_type": "stream",
     "text": [
      "\n"
     ]
    },
    {
     "data": {
      "image/png": "[encoded data removed]",
      "text/plain": [
       "<Figure size 432x288 with 1 Axes>"
      ]
     },
     "metadata": {
      "needs_background": "light"
     },
     "output_type": "display_data"
    }
   ],
   "source": [
    "from tqdm import tqdm_notebook\n",
    "thresholds = np.linspace(0,1,5)\n",
    "\n",
    "models = [ranf, log, tree_model]\n",
    "model_label = ['RanFor','Logis','Tree']\n",
    "\n",
    "for i,model in enumerate(models):\n",
    "    print('Working on '+model_label[i])\n",
    "    pred_probs = model.predict_proba(X_test.values) #[0,1]\n",
    "    TPR, FPR = [1.0], [1.0]\n",
    "    for t in tqdm_notebook(thresholds):\n",
    "\n",
    "        y_actual = y_test\n",
    "        y_pred_probs = pred_probs[:,1]\n",
    "        y_pred = np.array(y_pred_probs > t,int)\n",
    "        tpr, fpr = get_TPR_FPR(y_pred, y_actual)\n",
    "        TPR.append(tpr)\n",
    "        FPR.append(fpr)\n",
    "        \n",
    "    TPR.append(0.0)\n",
    "    FPR.append(0.0)\n",
    "    \n",
    "    auc = AUC(FPR,TPR).round(3)\n",
    "\n",
    "    plt.plot(FPR, TPR,label = model_label[i]+', AUC :' + str(auc))\n",
    "plt.legend()\n",
    "plt.xlabel('FPR')\n",
    "plt.ylabel('TPR')\n",
    "plt.grid()\n",
    "plt.show()"
   ]
  },
  {
   "cell_type": "markdown",
   "metadata": {},
   "source": [
    "# Some notes about AUC/ROC"
   ]
  },
  {
   "cell_type": "markdown",
   "metadata": {},
   "source": [
    "As seen from above the ROC is the receiver operating characteristic. It is a curve which plots the TPR (true positive rate) against the FPR (false positive rate). \n",
    "\n",
    "\\begin{equation} \\text{TPR} = \\frac{\\text{TP}}{\\text{TP} + \\text{FN}} \\end{equation}\n",
    "\n",
    "Namely, the true positive devided by all positive observations.\n",
    "\n",
    "\\begin{equation} \\text{FPR} = \\frac{\\text{FP}}{\\text{FP} + \\text{TN}} \\end{equation}\n",
    "\n",
    "Namely, the false positive devided by all the negative observations.\n",
    "\n",
    "We fundamentally would want to maximise TPR, whilst minimising FPR. Thus : The ROC curve shows the trade-off between sensitivity (or TPR) and specificity (1 – FPR). Classifiers that give curves closer to the top-left corner indicate a better performance. As a baseline, a random classifier is expected to give points lying along the diagonal (FPR = TPR). The closer the curve comes to the 45-degree diagonal of the ROC space, the less accurate the test.\n",
    "\n",
    "The points are varied associated to the threshold of the decision boundary. E.g. for logisitic regression - a binary classifier is deamed positive if the sigmoid functions gives > 0.5, whilst returning negative if <= 0.5. The ROC looks at the effect of changing this threshold as seeing how the FPR,TPR changes.\n",
    "\n",
    "To compare different classifiers, it can be useful to summarize the performance of each classifier into a single measure. One common approach is to calculate the area under the ROC curve, which is abbreviated to AUC. It is equivalent to the probability that a randomly chosen positive instance is ranked higher than a randomly chosen negative instance, i.e. it is equivalent to the two sample Wilcoxon rank-sum statistic.\n",
    "\n",
    "A classifier with high AUC can occassionally score worse in a specific region than another classifier with lower AUC. But in practice, the AUC performs well as a general measure of predictive accuracy."
   ]
  }
 ],
 "metadata": {
  "kernelspec": {
   "display_name": "Python 3.6.9 64-bit ('ml_env': conda)",
   "language": "python",
   "name": "python36964bitmlenvconda9f54039d931e4029adcffd4ea832f0f0"
  },
  "language_info": {
   "codemirror_mode": {
    "name": "ipython",
    "version": 3
   },
   "file_extension": ".py",
   "mimetype": "text/x-python",
   "name": "python",
   "nbconvert_exporter": "python",
   "pygments_lexer": "ipython3",
   "version": "3.6.9"
  }
 },
 "nbformat": 4,
 "nbformat_minor": 2
}
