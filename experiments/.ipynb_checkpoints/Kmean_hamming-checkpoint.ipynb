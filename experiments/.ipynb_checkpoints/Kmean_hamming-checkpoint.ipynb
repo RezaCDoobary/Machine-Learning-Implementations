{
 "cells": [
  {
   "cell_type": "code",
   "execution_count": 1,
   "metadata": {},
   "outputs": [],
   "source": [
    "import numpy as np\n",
    "import pandas as pd\n",
    "from scipy.stats import mode"
   ]
  },
  {
   "cell_type": "code",
   "execution_count": 2,
   "metadata": {},
   "outputs": [],
   "source": [
    "import warnings\n",
    "warnings.simplefilter(\"error\")\n",
    "warnings.simplefilter(\"ignore\", DeprecationWarning)"
   ]
  },
  {
   "cell_type": "code",
   "execution_count": 53,
   "metadata": {},
   "outputs": [],
   "source": [
    "from collections import deque\n",
    "class EarlyStopping:\n",
    "    def __init__(self, patience):\n",
    "        self.patience = patience\n",
    "        self.values = deque(maxlen = self.patience)\n",
    "        self.current_best = None\n",
    "        self.current_min = np.inf\n",
    "        \n",
    "    def should_break(self, value):\n",
    "        self.current_min = min(self.current_min, value)\n",
    "        self.values.append(value)\n",
    "        if len(self.values) == self.patience and ((np.array(self.values) >= self.current_min) == True).all():\n",
    "            return True\n",
    "        \n",
    "        return False\n",
    "\n",
    "class KClustering:\n",
    "    def __init__(self, n_clusters):\n",
    "        self.n_clusters = n_clusters\n",
    "        self.centroids = None\n",
    "        self.clusters = {i:None for i in range(0,self.n_clusters)}\n",
    "        self.store_iterations = {}\n",
    "        self._cost = None\n",
    "\n",
    "    \n",
    "    def setUp(self, X):  \n",
    "        self.X = X\n",
    "        self.N, self.p = self.X.shape\n",
    "        self.ind = np.arange(self.N)\n",
    "\n",
    "        \n",
    "    def _init_centroids_and_clusters(self, how = 'random'):\n",
    "        if how == 'random':\n",
    "            centroids = self.X[np.random.choice(np.arange(self.N),(self.n_clusters))]\n",
    "            clusters = {i:None for i in range(0,self.n_clusters)}\n",
    "            return centroids, clusters\n",
    "        else:\n",
    "            raise NotImplementedError\n",
    "            \n",
    "    def _distance_metric(self, x1, x2, axis):\n",
    "        pass\n",
    "    \n",
    "    def _get_centroid(self, data):\n",
    "        pass\n",
    "    \n",
    "    def _cost_func(self, centroids, clusters):\n",
    "        res = []\n",
    "        for i in range(0,self.n_clusters):\n",
    "            costs = [self._distance_metric(x, centroids[i],0) for x in self.X[clusters[i]]]\n",
    "            if len(costs) == 0:\n",
    "                continue\n",
    "            mean_costs = np.mean(costs)\n",
    "            res.append(mean_costs)\n",
    "        return np.array(res)\n",
    "        \n",
    "    def _current_fits(self, centroids, clusters, cost, i):\n",
    "        self.store_iterations[i] = {}\n",
    "        self.store_iterations[i]['centroids'] = centroids\n",
    "        self.store_iterations[i]['clusters'] = clusters\n",
    "        self.store_iterations[i]['cost'] = cost\n",
    "        \n",
    "    def _fit(self, max_iter = 200, verbose = True, patience = 10):\n",
    "        es = EarlyStopping(patience = patience)\n",
    "   \n",
    "        centroids, clusters = self._init_centroids_and_clusters()\n",
    "        \n",
    "        for i in range(0,max_iter):\n",
    "            \n",
    "            dist = np.array([self._distance_metric(x, centroids, 1) for x in self.X])\n",
    "            \n",
    "            for j in range(0,self.n_clusters):\n",
    "                clusters[j] = self.ind[np.argmin(dist,1) == j]\n",
    "                \n",
    "            for i,val in enumerate(list(clusters.values())):\n",
    "                if len(val) != 0:\n",
    "                    centroids[i] = self._get_centroid(self.X[val])#mode(self.X[val],0).mode[0]\n",
    "            \n",
    "            if es.should_break(np.mean(self._cost_func(centroids, clusters))):\n",
    "                break\n",
    "            \n",
    "        return centroids, clusters, self._cost_func(centroids, clusters)\n",
    "    \n",
    "    def fit(self, X,max_iter = 200, verbose = True, n_fit = 5):\n",
    "\n",
    "        self.setUp(X)\n",
    "        \n",
    "        current_minimum_lost = np.inf\n",
    "        current_centroids = None\n",
    "        current_cluster = None\n",
    "        \n",
    "        for i in range(0,n_fit):\n",
    "            centroids, clusters, lost_per_cluster = self._fit()\n",
    "            if 0 in list(map(len,clusters.values())):\n",
    "                self._current_fits([], [], np.inf, i)\n",
    "                continue\n",
    "            lost = np.mean(lost_per_cluster)\n",
    "            self._current_fits(centroids, clusters, lost, i)\n",
    "\n",
    "            if lost <= current_minimum_lost:\n",
    "                self.centroids = centroids\n",
    "                self.clusters = clusters\n",
    "                self._cost = lost\n",
    "                \n",
    "                current_minimum_lost = lost\n",
    "                \n",
    "                \n",
    "class KModes(KClustering):\n",
    "    def __init__(self, n_clusters):\n",
    "        super().__init__(n_clusters)\n",
    "        \n",
    "    def _distance_metric(self, x1, x2, axis):\n",
    "        # implementing the hamming distance here\n",
    "        x1,x2 = np.array(x1), np.array(x2)\n",
    "        return np.sum(x1!=x2, axis)\n",
    "        \n",
    "    def _get_centroid(self, data):\n",
    "        return mode(data,0).mode[0]\n",
    "    \n",
    "class KMeans(KClustering):\n",
    "    def __init__(self, n_clusters):\n",
    "        super().__init__(n_clusters)\n",
    "        \n",
    "    def _distance_metric(self, x1, x2, axis):\n",
    "        diff = x1 - x2\n",
    "        return np.sqrt(np.sum(diff**2,axis))\n",
    "        \n",
    "    def _get_centroid(self, data):\n",
    "        return np.mean(data,0)"
   ]
  },
  {
   "cell_type": "code",
   "execution_count": 54,
   "metadata": {},
   "outputs": [
    {
     "name": "stdout",
     "output_type": "stream",
     "text": [
      "[[0 0 0 0 0 0 1 1 1]\n",
      " [1 1 1 0 0 0 0 0 0]\n",
      " [0 0 0 1 1 1 0 0 0]]\n",
      "{0: array([100, 101, 102, 103, 104, 105, 106, 107, 108, 109, 110, 111, 112,\n",
      "       113, 114, 115, 116, 117, 118, 119, 120, 121, 122, 123, 124, 125,\n",
      "       126, 127, 128, 129, 130, 131, 132, 133, 134, 135, 136, 137, 138,\n",
      "       139, 140, 141, 142, 143, 144, 145, 146, 147, 148, 149]), 1: array([ 0,  1,  2,  3,  4,  5,  6,  7,  8,  9, 10, 11, 12, 13, 14, 15, 16,\n",
      "       17, 18, 19, 20, 21, 22, 23, 24, 25, 26, 27, 28, 29, 30, 31, 32, 33,\n",
      "       34, 35, 36, 37, 38, 39, 40, 41, 42, 43, 44, 45, 46, 47, 48, 49]), 2: array([50, 51, 52, 53, 54, 55, 56, 57, 58, 59, 60, 61, 62, 63, 64, 65, 66,\n",
      "       67, 68, 69, 70, 71, 72, 73, 74, 75, 76, 77, 78, 79, 80, 81, 82, 83,\n",
      "       84, 85, 86, 87, 88, 89, 90, 91, 92, 93, 94, 95, 96, 97, 98, 99])}\n"
     ]
    }
   ],
   "source": [
    "X = np.array([[1,1,1,0,0,0,0,0,0] for i in range(50)] + [[0,0,0,1,1,1,0,0,0] for i in range(50)] + \\\n",
    "[[0,0,0,0,0,0,1,1,1,] for i in range(50)])\n",
    "model = KModes(3)\n",
    "model.fit(X)\n",
    "print(model.centroids)\n",
    "print(model.clusters)"
   ]
  },
  {
   "cell_type": "code",
   "execution_count": 55,
   "metadata": {},
   "outputs": [
    {
     "data": {
      "text/plain": [
       "<matplotlib.collections.PathCollection at 0x1a18f26978>"
      ]
     },
     "execution_count": 55,
     "metadata": {},
     "output_type": "execute_result"
    },
    {
     "data": {
      "image/png": "[encoded data removed]",
      "text/plain": [
       "<Figure size 432x288 with 1 Axes>"
      ]
     },
     "metadata": {
      "needs_background": "light"
     },
     "output_type": "display_data"
    }
   ],
   "source": [
    "import matplotlib.pyplot as plt\n",
    "%matplotlib inline\n",
    "\n",
    "X1 = np.random.normal(0,1,(100,2))\n",
    "X2 = np.random.normal(3,1,(100,2))\n",
    "X3 = np.random.normal(5,1,(100,2))\n",
    "\n",
    "#plt.scatter(X1.T[0],X1.T[1])\n",
    "#plt.scatter(X2.T[0],X2.T[1])\n",
    "#plt.scatter(X3.T[0],X3.T[1])\n",
    "\n",
    "Z = np.concatenate([X1,X2,X3])\n",
    "model = kmeans(3)\n",
    "model.fit(Z)\n",
    "\n",
    "plt.scatter(Z.T[0],Z.T[1])\n",
    "plt.scatter(model.centroids.T[0],model.centroids.T[1])"
   ]
  },
  {
   "cell_type": "code",
   "execution_count": null,
   "metadata": {},
   "outputs": [],
   "source": []
  }
 ],
 "metadata": {
  "kernelspec": {
   "display_name": "Python 3.6.9 64-bit ('ml_env': conda)",
   "language": "python",
   "name": "python36964bitmlenvconda9f54039d931e4029adcffd4ea832f0f0"
  },
  "language_info": {
   "codemirror_mode": {
    "name": "ipython",
    "version": 3
   },
   "file_extension": ".py",
   "mimetype": "text/x-python",
   "name": "python",
   "nbconvert_exporter": "python",
   "pygments_lexer": "ipython3",
   "version": "3.6.9"
  }
 },
 "nbformat": 4,
 "nbformat_minor": 2
}
