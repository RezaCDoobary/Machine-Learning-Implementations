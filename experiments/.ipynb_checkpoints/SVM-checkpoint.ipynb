{
 "cells": [
  {
   "cell_type": "code",
   "execution_count": 4,
   "metadata": {},
   "outputs": [],
   "source": [
    "import cvxopt\n",
    "from cvxopt import matrix, solvers \n",
    "import numpy as np\n",
    "import kernels as kl\n",
    "\n",
    "class DiscriminantClassifier:\n",
    "    pass\n",
    "\n",
    "\n",
    "class SVM(DiscriminantClassifier):\n",
    "    def __init__(self, kernel, C = None):\n",
    "        self.kernel = kernel\n",
    "        self.C = C \n",
    "        \n",
    "    def setUp(self,X,y):\n",
    "        \n",
    "        X_train = X.copy()\n",
    "        y_train = y.copy()\n",
    "        self.X = X_train\n",
    "        self.y = y_train\n",
    "\n",
    "        #self.X = np.insert(self.X, 0, values=1, axis=1)\n",
    "        \n",
    "        self.N,self.p = self.X.shape\n",
    "        \n",
    "    def _perform_convex_optimisation(self, verbose = False):\n",
    "        # to do with convex opt part there are three main components:\n",
    "        \n",
    "        # step 1 : min xPx + Qx:\n",
    "        K = self.kernel.covariance(self.X,self.X)\n",
    "        T = self.y[:,np.newaxis]*self.y\n",
    "        P = matrix(T*K,tc = 'd') \n",
    "        \n",
    "        Q = -np.ones(self.N)\n",
    "        Q = matrix(Q,tc = 'd')\n",
    "        \n",
    "        # step 2 : such that Gx < h:\n",
    "        if self.C is None:\n",
    "            G = -np.eye(self.N)\n",
    "            G = matrix(G,tc='d')\n",
    "            h = np.zeros(self.N)\n",
    "            h = matrix(h, tc = 'd')\n",
    "        else:\n",
    "            G_top = np.eye(self.N)\n",
    "            G_bottom = -np.eye(self.N)\n",
    "            G = np.concatenate([G_top, G_bottom ],0)\n",
    "            G = matrix(G,tc='d')\n",
    "            h_top = np.ones(self.N)*self.C\n",
    "            h_bottom = np.zeros(self.N)\n",
    "            h = np.concatenate([h_top, h_bottom ],0)\n",
    "            h = matrix(h, tc = 'd')\n",
    "        \n",
    "        # step 3 : and Ax = b:\n",
    "        A = matrix(self.y.reshape(1,-1), tc = 'd')\n",
    "        b = matrix(0, tc = 'd')\n",
    "        \n",
    "        if verbose:\n",
    "            cvxopt.solvers.options['show_progress'] = True\n",
    "        else:\n",
    "            cvxopt.solvers.options['show_progress'] = False\n",
    "            \n",
    "        minima = cvxopt.solvers.qp(P, Q, G, h, A, b)\n",
    "        return minima\n",
    "    \n",
    "    \n",
    "    def _create_support_data(self, minima, eps = 10e-11):\n",
    "        self.all_lagrangian_multipliers = np.array(minima['x'])\n",
    "        self.support_indices = np.array(self.all_lagrangian_multipliers) > eps\n",
    "        self.support_indices = self.support_indices.reshape(1,-1).ravel()\n",
    "\n",
    "\n",
    "        self.support_multipliers = self.all_lagrangian_multipliers[self.support_indices].ravel()\n",
    "        self.support_vectors = self.X[self.support_indices]\n",
    "        self.support_output = self.y[self.support_indices]\n",
    "        \n",
    "        self.K_support = self.kernel.covariance(self.support_vectors, self.support_vectors)\n",
    "        \n",
    "        \n",
    "    def get_support_data(self):\n",
    "        \n",
    "        return {'lagrangian_multipliers': self.support_multipliers,\\\n",
    "                'support_vectors':self.support_vectors, 'support_output':self.support_output,\\\n",
    "                'support_kernel_matrix':  self.K_support, 'intercept':self.intercept}\n",
    "        \n",
    "        \n",
    "        \n",
    "    def fit(self, X, y, verbose = False, eps = 10e-11):\n",
    "        self.setUp(X,y)\n",
    "        minima = self._perform_convex_optimisation(verbose)\n",
    "        self._create_support_data(minima)\n",
    "        \n",
    "        amtm = np.multiply(self.support_multipliers, self.support_output)\n",
    "        self.intercept = np.mean(self.support_output - np.matmul(amtm, self.K_support))\n",
    "        \n",
    "    \n",
    "    def predict_value(self, X):\n",
    "        res = 0\n",
    "        for i in range(0,len(self.support_multipliers)):\n",
    "            res += self.support_multipliers[i]*self.support_output[i]\\\n",
    "            *self.kernel.covariance(X,self.support_vectors[i])\n",
    "        res+=self.intercept\n",
    "        \n",
    "        return res\n",
    "    \n",
    "    def predict(self, X):\n",
    "        values = self.predict_value(X)\n",
    "        return np.array([np.sign(val) for val in values])\n",
    "        \n",
    "    "
   ]
  },
  {
   "cell_type": "code",
   "execution_count": 5,
   "metadata": {},
   "outputs": [
    {
     "data": {
      "text/plain": [
       "array([10.13908553, -4.47983459])"
      ]
     },
     "execution_count": 5,
     "metadata": {},
     "output_type": "execute_result"
    }
   ],
   "source": [
    "svm.support_vectors[4]"
   ]
  },
  {
   "cell_type": "code",
   "execution_count": 35,
   "metadata": {},
   "outputs": [
    {
     "name": "stdout",
     "output_type": "stream",
     "text": [
      "[1.]\n",
      "[0.6]\n"
     ]
    }
   ],
   "source": [
    "X = np.random.normal(0,10,(150,2))\n",
    "Y = np.sum(X,1)\n",
    "Z = np.array(Y > 0,int)\n",
    "W = np.array(Y<0,int)\n",
    "Y = Z - W\n",
    "\n",
    "\n",
    "N,p = X.shape\n",
    "split = int(0.8*N)\n",
    "X_train, X_val = X[:split], X[split:]\n",
    "y_train, y_val = Y[:split], Y[split:]\n",
    "\n",
    "\n",
    "\n",
    "\n",
    "kernel = kl.SquareExponential(0.9,0.8)\n",
    "svm = SVM(kernel = kernel, C = 1)\n",
    "svm.fit(X_train,y_train)\n",
    "training_acc = sum(svm.predict(X_train) == y_train.reshape(-1,1))/len(y_train)\n",
    "\n",
    "print(training_acc)\n",
    "\n",
    "\n",
    "validation_acc = sum(svm.predict(X_val) == y_val.reshape(-1,1))/len(y_val)\n",
    "\n",
    "print(validation_acc)\n"
   ]
  },
  {
   "cell_type": "code",
   "execution_count": 43,
   "metadata": {},
   "outputs": [
    {
     "data": {
      "image/png": "[encoded data removed]",
      "text/plain": [
       "<Figure size 1440x720 with 1 Axes>"
      ]
     },
     "metadata": {
      "needs_background": "light"
     },
     "output_type": "display_data"
    }
   ],
   "source": [
    "\n",
    "import matplotlib.pyplot as plt\n",
    "\n",
    "plt.figure(figsize=(20,10))\n",
    "\n",
    "X1 = X[Y==1]\n",
    "X2 = X[Y==-1]\n",
    "plt.scatter(X1.T[0],X1.T[1], label = '+1')\n",
    "plt.scatter(X2.T[0],X2.T[1], label = '-1')\n",
    "\n",
    "support_data = svm.get_support_data()\n",
    "\n",
    "s1, s2 = support_data['support_vectors'].T\n",
    "\n",
    "plt.scatter(s1,s2, marker = 'x', color = 'r', label = 'support', s=50)\n",
    "#plt.scatter(new_point[0][0],new_point[0][1], label = 'new_point : '+ str(sign))\n",
    "\n",
    "plt.grid()\n",
    "plt.legend()\n",
    "plt.show()\n",
    "\n"
   ]
  },
  {
   "cell_type": "code",
   "execution_count": null,
   "metadata": {},
   "outputs": [],
   "source": []
  },
  {
   "cell_type": "code",
   "execution_count": null,
   "metadata": {},
   "outputs": [],
   "source": []
  },
  {
   "cell_type": "code",
   "execution_count": null,
   "metadata": {},
   "outputs": [],
   "source": []
  },
  {
   "cell_type": "markdown",
   "metadata": {},
   "source": [
    "\\begin{array}[t]{ll}\n",
    "\\mbox{minimize}   & -4x_1 - 5x_2 \\\\\n",
    "\\mbox{subject to} &  2x_1 + x_2 \\leq 3 \\\\\n",
    "                  & x_1 + 2x_2 \\leq 3 \\\\\n",
    "                  & x_1 \\geq 0, \\quad x_2 \\geq 0.\n",
    "\\end{array}"
   ]
  },
  {
   "cell_type": "code",
   "execution_count": 27,
   "metadata": {},
   "outputs": [
    {
     "name": "stdout",
     "output_type": "stream",
     "text": [
      "     pcost       dcost       gap    pres   dres   k/t\n",
      " 0: -8.1000e+00 -1.8300e+01  4e+00  0e+00  8e-01  1e+00\n",
      " 1: -8.8055e+00 -9.4357e+00  2e-01  3e-16  4e-02  3e-02\n",
      " 2: -8.9981e+00 -9.0049e+00  2e-03  2e-16  5e-04  4e-04\n",
      " 3: -9.0000e+00 -9.0000e+00  2e-05  1e-16  5e-06  4e-06\n",
      " 4: -9.0000e+00 -9.0000e+00  2e-07  2e-16  5e-08  4e-08\n",
      "Optimal solution found.\n"
     ]
    }
   ],
   "source": [
    "from cvxopt import matrix, solvers\n",
    "\n",
    "c = matrix([-4.,-5.])\n",
    "G = matrix([[2., 1., -1., 0.], [1., 2., 0., -1.]])\n",
    "h = matrix([3.,3.,0.,0.])\n",
    "\n",
    "sol = solvers.lp(c,G,h)"
   ]
  },
  {
   "cell_type": "code",
   "execution_count": 29,
   "metadata": {},
   "outputs": [
    {
     "name": "stdout",
     "output_type": "stream",
     "text": [
      "[ 1.00e+00]\n",
      "[ 1.00e+00]\n",
      "\n"
     ]
    }
   ],
   "source": [
    "print(sol['x'])"
   ]
  },
  {
   "cell_type": "raw",
   "metadata": {},
   "source": [
    "min    1/2 x^2  + 3x  4y\n",
    "x,y\n",
    "\n",
    "\n",
    "subject to x, y ≥ 0\n",
    "x + 3y ≥ 15\n",
    "2x + 5y ≤ 100\n",
    "3x + 4y ≤ 80\n",
    "\n",
    "written as \n",
    "\n",
    "min 1/2 xPx + qx\n",
    "x\n",
    "\n",
    "subject to Gx < h\n",
    "Ax = b"
   ]
  },
  {
   "cell_type": "code",
   "execution_count": 32,
   "metadata": {},
   "outputs": [
    {
     "name": "stdout",
     "output_type": "stream",
     "text": [
      "     pcost       dcost       gap    pres   dres\n",
      " 0:  1.0780e+02 -7.6366e+02  9e+02  1e-16  4e+01\n",
      " 1:  9.3245e+01  9.7637e+00  8e+01  2e-16  3e+00\n",
      " 2:  6.7311e+01  3.2553e+01  3e+01  2e-16  1e+00\n",
      " 3:  2.6071e+01  1.5068e+01  1e+01  4e-17  7e-01\n",
      " 4:  3.7092e+01  2.3152e+01  1e+01  6e-17  4e-01\n",
      " 5:  2.5352e+01  1.8652e+01  7e+00  3e-17  4e-16\n",
      " 6:  2.0062e+01  1.9974e+01  9e-02  9e-17  2e-16\n",
      " 7:  2.0001e+01  2.0000e+01  9e-04  2e-16  2e-16\n",
      " 8:  2.0000e+01  2.0000e+01  9e-06  1e-16  4e-16\n",
      "Optimal solution found.\n"
     ]
    }
   ],
   "source": [
    "from cvxopt import matrix, solvers\n",
    "P = matrix([[1.0,0.0],[0.0,0.0]])\n",
    "q = matrix([3.0,4.0])\n",
    "G = matrix([[-1.0,0.0,-1.0,2.0,3.0],[0.0,-1.0,-3.0,5.0,4.0]])\n",
    "h = matrix([0.0,0.0,-15.0,100.0,80.0])\n",
    "\n",
    "sol = solvers.qp(P,q,G,h)#A,b)"
   ]
  },
  {
   "cell_type": "code",
   "execution_count": 34,
   "metadata": {},
   "outputs": [
    {
     "name": "stdout",
     "output_type": "stream",
     "text": [
      "[ 7.13e-07]\n",
      "[ 5.00e+00]\n",
      "\n"
     ]
    }
   ],
   "source": [
    "print(sol['x'])"
   ]
  },
  {
   "cell_type": "code",
   "execution_count": 35,
   "metadata": {},
   "outputs": [],
   "source": [
    "# now let us try to apply this to the SVM problem"
   ]
  },
  {
   "cell_type": "code",
   "execution_count": 280,
   "metadata": {},
   "outputs": [
    {
     "data": {
      "image/png": "[encoded data removed]",
      "text/plain": [
       "<Figure size 1440x720 with 1 Axes>"
      ]
     },
     "metadata": {
      "needs_background": "light"
     },
     "output_type": "display_data"
    }
   ],
   "source": [
    "\n",
    "import matplotlib.pyplot as plt\n",
    "\n",
    "plt.figure(figsize=(20,10))\n",
    "\n",
    "X1 = X[Y==1]\n",
    "X2 = X[Y==-1]\n",
    "plt.scatter(X1.T[0],X1.T[1], label = '+1')\n",
    "plt.scatter(X2.T[0],X2.T[1], label = '-1')\n",
    "\n",
    "s1, s2 = support_vectors.T\n",
    "\n",
    "plt.scatter(s1,s2, marker = 'x', color = 'r', label = 'support', s=500)\n",
    "plt.scatter(new_point[0][0],new_point[0][1], label = 'new_point : '+ str(sign))\n",
    "\n",
    "plt.grid()\n",
    "plt.legend()\n",
    "plt.show()\n",
    "\n"
   ]
  },
  {
   "cell_type": "raw",
   "metadata": {},
   "source": [
    "\n",
    "C controls the trade off between the slack variavble penalty and the margin. Becuse any point that is misclassified has xi_n>1, it follows that sum_n xi_n is an upper bound on the number of miss classified points. The parameter C is therefore analogous to (the inverse of) a regularisation coefficient because it controls the trade-ff between minimising training errors and controlling model complexity. In the limit C->infty, we will recover the earlier support vector machine for seperable data."
   ]
  },
  {
   "cell_type": "code",
   "execution_count": 332,
   "metadata": {},
   "outputs": [
    {
     "name": "stdout",
     "output_type": "stream",
     "text": [
      "     pcost       dcost       gap    pres   dres\n",
      " 0: -1.6416e+01 -3.0732e-03  5e+02  2e+01  1e-13\n",
      " 1: -1.6874e-01 -3.0707e-03  5e+00  2e-01  8e-14\n",
      " 2: -6.2002e-03 -2.8406e-03  9e-02  4e-03  2e-15\n",
      " 3: -2.3049e-03 -3.6672e-04  2e-02  9e-04  6e-16\n",
      " 4: -2.2967e-05 -4.5774e-08  5e-04  2e-05  1e-15\n",
      " 5: -2.3660e-07 -2.3229e-08  5e-06  2e-07  5e-16\n",
      " 6: -8.8438e-09 -2.3111e-08  6e-08  2e-09  6e-16\n",
      "Optimal solution found.\n"
     ]
    }
   ],
   "source": [
    "# same SVM problem but with slack = i.e the C variable.\n",
    "\n",
    "# create the quadratic convex problem\n",
    "\n",
    "# define a simple quadratic kernel:\n",
    "\n",
    "# the a^T P a term\n",
    "def compute_kernel(X1, X2):\n",
    "    N,p = X1.shape\n",
    "    return np.matmul(X1[:,np.newaxis],X2.T).reshape(N,N)\n",
    "C = 0.0000000001 #for a soft margin\n",
    "C = None\n",
    "\n",
    "\n",
    "K = compute_kernel(X,X)\n",
    "T = Y[:,np.newaxis]*Y\n",
    "P = matrix(T*K,tc = 'd') \n",
    "\n",
    "# q\n",
    "\n",
    "# define the Qx term\n",
    "N,p = X.shape\n",
    "\n",
    "Q = -np.ones(N)\n",
    "Q = matrix(Q,tc = 'd')\n",
    "\n",
    "# Gx <  h terms => -a_n <= 0\n",
    "\n",
    "if C is None:\n",
    "    G = -np.eye(N)\n",
    "    G = matrix(G,tc='d')\n",
    "    h = np.zeros(N)\n",
    "    h = matrix(h, tc = 'd')\n",
    "else:\n",
    "    G_top = np.eye(N)\n",
    "    G_bottom = -np.eye(N)\n",
    "    G = np.concatenate([G_top, G_bottom ],0)\n",
    "    G = matrix(G,tc='d')\n",
    "    h_top = np.ones(N)*C\n",
    "    h_bottom = np.zeros(N)\n",
    "    h = np.concatenate([h_top, h_bottom ],0)\n",
    "    h = matrix(h, tc = 'd')\n",
    "\n",
    "# Ax = b term => \n",
    "\n",
    "A = matrix(Y.reshape(1,-1), tc = 'd')\n",
    "b = matrix(0, tc = 'd')\n",
    "\n",
    "\n",
    "cvxopt.solvers.options['show_progress'] = True\n",
    "minimization = cvxopt.solvers.qp(P, Q, G, h, A, b)\n",
    "\n",
    "eps = 10e-11\n",
    "\n",
    "\n",
    "all_lagrangian_multipliers = np.array(minimization['x'])\n",
    "support_indices = np.array(all_lagrangian_multipliers) > eps\n",
    "support_indices = support_indices.reshape(1,-1).ravel()\n",
    "\n",
    "\n",
    "support_multipliers = all_lagrangian_multipliers[support_indices].ravel()\n",
    "support_vectors = X[support_indices]\n",
    "support_output = Y[support_indices]\n",
    "\n",
    "amtm = np.multiply(support_multipliers, support_output)\n",
    "K_support = compute_kernel(support_vectors, support_vectors)\n",
    "b = np.mean(support_output - np.matmul(amtm, K_support))\n",
    "\n",
    "# prediction\n",
    "\n",
    "new_point = np.array([[-0.23,+0.5]])\n",
    "\n",
    "res = 0\n",
    "for i in range(0,len(support_multipliers)):\n",
    "    res += support_multipliers[i]*support_output[i]*compute_kernel(new_point,support_vectors[i])\n",
    "res+=b\n",
    "sign = np.sign(res)[0][0]"
   ]
  },
  {
   "cell_type": "code",
   "execution_count": 333,
   "metadata": {},
   "outputs": [
    {
     "data": {
      "text/plain": [
       "<matplotlib.legend.Legend at 0x1a276fa438>"
      ]
     },
     "execution_count": 333,
     "metadata": {},
     "output_type": "execute_result"
    },
    {
     "data": {
      "image/png": "[encoded data removed]",
      "text/plain": [
       "<Figure size 1440x720 with 1 Axes>"
      ]
     },
     "metadata": {
      "needs_background": "light"
     },
     "output_type": "display_data"
    }
   ],
   "source": [
    "\n",
    "import matplotlib.pyplot as plt\n",
    "\n",
    "plt.figure(figsize=(20,10))\n",
    "\n",
    "X1 = X[Y==1]\n",
    "X2 = X[Y==-1]\n",
    "plt.scatter(X1.T[0],X1.T[1], label = '+1')\n",
    "plt.scatter(X2.T[0],X2.T[1], label = '-1')\n",
    "\n",
    "s1, s2 = support_vectors.T\n",
    "\n",
    "plt.scatter(s1,s2, marker = 'x', color = 'r', label = 'support', s=500)\n",
    "plt.scatter(new_point[0][0],new_point[0][1], label = 'new_point : '+ str(sign))\n",
    "\n",
    "plt.grid()\n",
    "plt.legend()"
   ]
  },
  {
   "cell_type": "raw",
   "metadata": {},
   "source": [
    "# TO DO \n",
    "\n",
    "1. Formalise this\n",
    "2. Attach this to the kernel script from the BML."
   ]
  },
  {
   "cell_type": "code",
   "execution_count": null,
   "metadata": {},
   "outputs": [],
   "source": []
  },
  {
   "cell_type": "code",
   "execution_count": null,
   "metadata": {},
   "outputs": [],
   "source": []
  },
  {
   "cell_type": "code",
   "execution_count": null,
   "metadata": {},
   "outputs": [],
   "source": []
  },
  {
   "cell_type": "code",
   "execution_count": null,
   "metadata": {},
   "outputs": [],
   "source": []
  },
  {
   "cell_type": "code",
   "execution_count": null,
   "metadata": {},
   "outputs": [],
   "source": []
  }
 ],
 "metadata": {
  "kernelspec": {
   "display_name": "Python 3.6.9 64-bit ('ml_env': conda)",
   "language": "python",
   "name": "python36964bitmlenvconda9f54039d931e4029adcffd4ea832f0f0"
  },
  "language_info": {
   "codemirror_mode": {
    "name": "ipython",
    "version": 3
   },
   "file_extension": ".py",
   "mimetype": "text/x-python",
   "name": "python",
   "nbconvert_exporter": "python",
   "pygments_lexer": "ipython3",
   "version": "3.6.9"
  }
 },
 "nbformat": 4,
 "nbformat_minor": 2
}
