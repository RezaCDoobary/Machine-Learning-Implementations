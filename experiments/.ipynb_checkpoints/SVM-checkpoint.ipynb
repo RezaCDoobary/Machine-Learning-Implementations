{
 "cells": [
  {
   "cell_type": "code",
   "execution_count": 2,
   "metadata": {},
   "outputs": [
    {
     "name": "stdout",
     "output_type": "stream",
     "text": [
      "Requirement already satisfied: cvxopt in /Users/rezacolindoobary/opt/anaconda3/envs/ml_env/lib/python3.6/site-packages (1.2.4)\r\n"
     ]
    }
   ],
   "source": [
    "# first lets see how the convex optimiser will works\n",
    "\n",
    "\n",
    "!pip install cvxopt"
   ]
  },
  {
   "cell_type": "markdown",
   "metadata": {},
   "source": [
    "\\begin{array}[t]{ll}\n",
    "\\mbox{minimize}   & -4x_1 - 5x_2 \\\\\n",
    "\\mbox{subject to} &  2x_1 + x_2 \\leq 3 \\\\\n",
    "                  & x_1 + 2x_2 \\leq 3 \\\\\n",
    "                  & x_1 \\geq 0, \\quad x_2 \\geq 0.\n",
    "\\end{array}"
   ]
  },
  {
   "cell_type": "code",
   "execution_count": 27,
   "metadata": {},
   "outputs": [
    {
     "name": "stdout",
     "output_type": "stream",
     "text": [
      "     pcost       dcost       gap    pres   dres   k/t\n",
      " 0: -8.1000e+00 -1.8300e+01  4e+00  0e+00  8e-01  1e+00\n",
      " 1: -8.8055e+00 -9.4357e+00  2e-01  3e-16  4e-02  3e-02\n",
      " 2: -8.9981e+00 -9.0049e+00  2e-03  2e-16  5e-04  4e-04\n",
      " 3: -9.0000e+00 -9.0000e+00  2e-05  1e-16  5e-06  4e-06\n",
      " 4: -9.0000e+00 -9.0000e+00  2e-07  2e-16  5e-08  4e-08\n",
      "Optimal solution found.\n"
     ]
    }
   ],
   "source": [
    "from cvxopt import matrix, solvers\n",
    "\n",
    "c = matrix([-4.,-5.])\n",
    "G = matrix([[2., 1., -1., 0.], [1., 2., 0., -1.]])\n",
    "h = matrix([3.,3.,0.,0.])\n",
    "\n",
    "sol = solvers.lp(c,G,h)"
   ]
  },
  {
   "cell_type": "code",
   "execution_count": 29,
   "metadata": {},
   "outputs": [
    {
     "name": "stdout",
     "output_type": "stream",
     "text": [
      "[ 1.00e+00]\n",
      "[ 1.00e+00]\n",
      "\n"
     ]
    }
   ],
   "source": [
    "print(sol['x'])"
   ]
  },
  {
   "cell_type": "raw",
   "metadata": {},
   "source": [
    "min    1/2 x^2  + 3x  4y\n",
    "x,y\n",
    "\n",
    "\n",
    "subject to x, y ≥ 0\n",
    "x + 3y ≥ 15\n",
    "2x + 5y ≤ 100\n",
    "3x + 4y ≤ 80\n",
    "\n",
    "written as \n",
    "\n",
    "min 1/2 xPx + qx\n",
    "x\n",
    "\n",
    "subject to Gx < h\n",
    "Ax = b"
   ]
  },
  {
   "cell_type": "code",
   "execution_count": 32,
   "metadata": {},
   "outputs": [
    {
     "name": "stdout",
     "output_type": "stream",
     "text": [
      "     pcost       dcost       gap    pres   dres\n",
      " 0:  1.0780e+02 -7.6366e+02  9e+02  1e-16  4e+01\n",
      " 1:  9.3245e+01  9.7637e+00  8e+01  2e-16  3e+00\n",
      " 2:  6.7311e+01  3.2553e+01  3e+01  2e-16  1e+00\n",
      " 3:  2.6071e+01  1.5068e+01  1e+01  4e-17  7e-01\n",
      " 4:  3.7092e+01  2.3152e+01  1e+01  6e-17  4e-01\n",
      " 5:  2.5352e+01  1.8652e+01  7e+00  3e-17  4e-16\n",
      " 6:  2.0062e+01  1.9974e+01  9e-02  9e-17  2e-16\n",
      " 7:  2.0001e+01  2.0000e+01  9e-04  2e-16  2e-16\n",
      " 8:  2.0000e+01  2.0000e+01  9e-06  1e-16  4e-16\n",
      "Optimal solution found.\n"
     ]
    }
   ],
   "source": [
    "from cvxopt import matrix, solvers\n",
    "P = matrix([[1.0,0.0],[0.0,0.0]])\n",
    "q = matrix([3.0,4.0])\n",
    "G = matrix([[-1.0,0.0,-1.0,2.0,3.0],[0.0,-1.0,-3.0,5.0,4.0]])\n",
    "h = matrix([0.0,0.0,-15.0,100.0,80.0])\n",
    "\n",
    "sol = solvers.qp(P,q,G,h)#A,b)"
   ]
  },
  {
   "cell_type": "code",
   "execution_count": 34,
   "metadata": {},
   "outputs": [
    {
     "name": "stdout",
     "output_type": "stream",
     "text": [
      "[ 7.13e-07]\n",
      "[ 5.00e+00]\n",
      "\n"
     ]
    }
   ],
   "source": [
    "print(sol['x'])"
   ]
  },
  {
   "cell_type": "code",
   "execution_count": 35,
   "metadata": {},
   "outputs": [],
   "source": [
    "# now let us try to apply this to the SVM problem"
   ]
  },
  {
   "cell_type": "code",
   "execution_count": 317,
   "metadata": {},
   "outputs": [
    {
     "name": "stdout",
     "output_type": "stream",
     "text": [
      "\n"
     ]
    }
   ],
   "source": [
    "\n",
    "import numpy as np\n",
    "from cvxopt import matrix, solvers\n",
    "\n",
    "X = np.random.normal(0,10,(100,2))\n",
    "Y = np.sum(X,1)\n",
    "Z = np.array(Y > 0,int)\n",
    "W = np.array(Y<0,int)\n",
    "Y = Z - W\n",
    "\n",
    "# create the quadratic convex problem\n",
    "\n",
    "# define a simple quadratic kernel:\n",
    "\n",
    "# the a^T P a term\n",
    "def compute_kernel(X1, X2):\n",
    "    N,p = X1.shape\n",
    "    return np.matmul(X1[:,np.newaxis],X2.T).reshape(N,N)\n",
    "K = compute_kernel(X,X)\n",
    "T = Y[:,np.newaxis]*Y\n",
    "P = matrix(T*K,tc = 'd') \n",
    "\n",
    "# q\n",
    "\n",
    "# define the Qx term\n",
    "N,p = X.shape\n",
    "\n",
    "Q = -np.ones(N)\n",
    "Q = matrix(Q,tc = 'd')\n",
    "\n",
    "# Gx <  h terms => -a_n <= 0\n",
    "\n",
    "G = -np.eye(N)\n",
    "G = matrix(G,tc='d')\n",
    "h = np.zeros(N)\n",
    "h = matrix(h, tc = 'd')\n",
    "\n",
    "\n",
    "# Ax = b term => \n",
    "\n",
    "A = matrix(Y.reshape(1,-1), tc = 'd')\n",
    "b = matrix(0, tc = 'd')\n",
    "\n",
    "\n",
    "print('')\n",
    "cvxopt.solvers.options['show_progress'] = False\n",
    "minimization = cvxopt.solvers.qp(P, Q, G, h, A, b)\n",
    "\n",
    "eps = 10e-11\n",
    "\n",
    "\n",
    "all_lagrangian_multipliers = np.array(minimization['x'])\n",
    "support_indices = np.array(all_lagrangian_multipliers) > eps\n",
    "support_indices = support_indices.reshape(1,-1).ravel()\n",
    "\n",
    "\n",
    "support_multipliers = all_lagrangian_multipliers[support_indices].ravel()\n",
    "support_vectors = X[support_indices]\n",
    "support_output = Y[support_indices]\n",
    "\n",
    "amtm = np.multiply(support_multipliers, support_output)\n",
    "K_support = compute_kernel(support_vectors, support_vectors)\n",
    "b = np.mean(support_output - np.matmul(amtm, K_support))\n",
    "\n",
    "# prediction\n",
    "\n",
    "new_point = np.array([[-0.23,+0.5]])\n",
    "\n",
    "res = 0\n",
    "for i in range(0,len(support_multipliers)):\n",
    "    res += support_multipliers[i]*support_output[i]*compute_kernel(new_point,support_vectors[i])\n",
    "res+=b\n",
    "sign = np.sign(res)[0][0]"
   ]
  },
  {
   "cell_type": "code",
   "execution_count": 279,
   "metadata": {},
   "outputs": [],
   "source": [
    "\n",
    "\n",
    "#weights\n",
    "\n",
    "res = 0\n",
    "for i in range(0,len(support_multipliers)):\n",
    "    res += support_multipliers[i]*support_output[i]*support_vectors[i]\n",
    "weights = res\n"
   ]
  },
  {
   "cell_type": "code",
   "execution_count": 280,
   "metadata": {},
   "outputs": [
    {
     "data": {
      "image/png": "[encoded data removed]",
      "text/plain": [
       "<Figure size 1440x720 with 1 Axes>"
      ]
     },
     "metadata": {
      "needs_background": "light"
     },
     "output_type": "display_data"
    }
   ],
   "source": [
    "\n",
    "import matplotlib.pyplot as plt\n",
    "\n",
    "plt.figure(figsize=(20,10))\n",
    "\n",
    "X1 = X[Y==1]\n",
    "X2 = X[Y==-1]\n",
    "plt.scatter(X1.T[0],X1.T[1], label = '+1')\n",
    "plt.scatter(X2.T[0],X2.T[1], label = '-1')\n",
    "\n",
    "s1, s2 = support_vectors.T\n",
    "\n",
    "plt.scatter(s1,s2, marker = 'x', color = 'r', label = 'support', s=500)\n",
    "plt.scatter(new_point[0][0],new_point[0][1], label = 'new_point : '+ str(sign))\n",
    "\n",
    "plt.grid()\n",
    "plt.legend()\n",
    "plt.show()\n",
    "\n"
   ]
  },
  {
   "cell_type": "raw",
   "metadata": {},
   "source": [
    "\n",
    "C controls the trade off between the slack variavble penalty and the margin. Becuse any point that is misclassified has xi_n>1, it follows that sum_n xi_n is an upper bound on the number of miss classified points. The parameter C is therefore analogous to (the inverse of) a regularisation coefficient because it controls the trade-ff between minimising training errors and controlling model complexity. In the limit C->infty, we will recover the earlier support vector machine for seperable data."
   ]
  },
  {
   "cell_type": "code",
   "execution_count": 332,
   "metadata": {},
   "outputs": [
    {
     "name": "stdout",
     "output_type": "stream",
     "text": [
      "     pcost       dcost       gap    pres   dres\n",
      " 0: -1.6416e+01 -3.0732e-03  5e+02  2e+01  1e-13\n",
      " 1: -1.6874e-01 -3.0707e-03  5e+00  2e-01  8e-14\n",
      " 2: -6.2002e-03 -2.8406e-03  9e-02  4e-03  2e-15\n",
      " 3: -2.3049e-03 -3.6672e-04  2e-02  9e-04  6e-16\n",
      " 4: -2.2967e-05 -4.5774e-08  5e-04  2e-05  1e-15\n",
      " 5: -2.3660e-07 -2.3229e-08  5e-06  2e-07  5e-16\n",
      " 6: -8.8438e-09 -2.3111e-08  6e-08  2e-09  6e-16\n",
      "Optimal solution found.\n"
     ]
    }
   ],
   "source": [
    "# same SVM problem but with slack = i.e the C variable.\n",
    "\n",
    "# create the quadratic convex problem\n",
    "\n",
    "# define a simple quadratic kernel:\n",
    "\n",
    "# the a^T P a term\n",
    "def compute_kernel(X1, X2):\n",
    "    N,p = X1.shape\n",
    "    return np.matmul(X1[:,np.newaxis],X2.T).reshape(N,N)\n",
    "C = 0.0000000001 #for a soft margin\n",
    "\n",
    "\n",
    "K = compute_kernel(X,X)\n",
    "T = Y[:,np.newaxis]*Y\n",
    "P = matrix(T*K,tc = 'd') \n",
    "\n",
    "# q\n",
    "\n",
    "# define the Qx term\n",
    "N,p = X.shape\n",
    "\n",
    "Q = -np.ones(N)\n",
    "Q = matrix(Q,tc = 'd')\n",
    "\n",
    "# Gx <  h terms => -a_n <= 0\n",
    "\n",
    "if C is None:\n",
    "    G = -np.eye(N)\n",
    "    G = matrix(G,tc='d')\n",
    "    h = np.zeros(N)\n",
    "    h = matrix(h, tc = 'd')\n",
    "else:\n",
    "    G_top = np.eye(N)\n",
    "    G_bottom = -np.eye(N)\n",
    "    G = np.concatenate([G_top, G_bottom ],0)\n",
    "    G = matrix(G,tc='d')\n",
    "    h_top = np.ones(N)*C\n",
    "    h_bottom = np.zeros(N)\n",
    "    h = np.concatenate([h_top, h_bottom ],0)\n",
    "    h = matrix(h, tc = 'd')\n",
    "\n",
    "# Ax = b term => \n",
    "\n",
    "A = matrix(Y.reshape(1,-1), tc = 'd')\n",
    "b = matrix(0, tc = 'd')\n",
    "\n",
    "\n",
    "cvxopt.solvers.options['show_progress'] = True\n",
    "minimization = cvxopt.solvers.qp(P, Q, G, h, A, b)\n",
    "\n",
    "eps = 10e-11\n",
    "\n",
    "\n",
    "all_lagrangian_multipliers = np.array(minimization['x'])\n",
    "support_indices = np.array(all_lagrangian_multipliers) > eps\n",
    "support_indices = support_indices.reshape(1,-1).ravel()\n",
    "\n",
    "\n",
    "support_multipliers = all_lagrangian_multipliers[support_indices].ravel()\n",
    "support_vectors = X[support_indices]\n",
    "support_output = Y[support_indices]\n",
    "\n",
    "amtm = np.multiply(support_multipliers, support_output)\n",
    "K_support = compute_kernel(support_vectors, support_vectors)\n",
    "b = np.mean(support_output - np.matmul(amtm, K_support))\n",
    "\n",
    "# prediction\n",
    "\n",
    "new_point = np.array([[-0.23,+0.5]])\n",
    "\n",
    "res = 0\n",
    "for i in range(0,len(support_multipliers)):\n",
    "    res += support_multipliers[i]*support_output[i]*compute_kernel(new_point,support_vectors[i])\n",
    "res+=b\n",
    "sign = np.sign(res)[0][0]"
   ]
  },
  {
   "cell_type": "code",
   "execution_count": 333,
   "metadata": {},
   "outputs": [
    {
     "data": {
      "text/plain": [
       "<matplotlib.legend.Legend at 0x1a276fa438>"
      ]
     },
     "execution_count": 333,
     "metadata": {},
     "output_type": "execute_result"
    },
    {
     "data": {
      "image/png": "[encoded data removed]",
      "text/plain": [
       "<Figure size 1440x720 with 1 Axes>"
      ]
     },
     "metadata": {
      "needs_background": "light"
     },
     "output_type": "display_data"
    }
   ],
   "source": [
    "\n",
    "import matplotlib.pyplot as plt\n",
    "\n",
    "plt.figure(figsize=(20,10))\n",
    "\n",
    "X1 = X[Y==1]\n",
    "X2 = X[Y==-1]\n",
    "plt.scatter(X1.T[0],X1.T[1], label = '+1')\n",
    "plt.scatter(X2.T[0],X2.T[1], label = '-1')\n",
    "\n",
    "s1, s2 = support_vectors.T\n",
    "\n",
    "plt.scatter(s1,s2, marker = 'x', color = 'r', label = 'support', s=500)\n",
    "plt.scatter(new_point[0][0],new_point[0][1], label = 'new_point : '+ str(sign))\n",
    "\n",
    "plt.grid()\n",
    "plt.legend()"
   ]
  },
  {
   "cell_type": "raw",
   "metadata": {},
   "source": [
    "# TO DO \n",
    "\n",
    "1. Formalise this\n",
    "2. Attach this to the kernel script from the BML."
   ]
  },
  {
   "cell_type": "code",
   "execution_count": null,
   "metadata": {},
   "outputs": [],
   "source": []
  },
  {
   "cell_type": "code",
   "execution_count": null,
   "metadata": {},
   "outputs": [],
   "source": []
  },
  {
   "cell_type": "code",
   "execution_count": null,
   "metadata": {},
   "outputs": [],
   "source": []
  },
  {
   "cell_type": "code",
   "execution_count": null,
   "metadata": {},
   "outputs": [],
   "source": []
  },
  {
   "cell_type": "code",
   "execution_count": 360,
   "metadata": {},
   "outputs": [
    {
     "ename": "TypeError",
     "evalue": "'G' must be a 'd' matrix of size (400, 200)",
     "output_type": "error",
     "traceback": [
      "\u001b[0;31m---------------------------------------------------------------------------\u001b[0m",
      "\u001b[0;31mTypeError\u001b[0m                                 Traceback (most recent call last)",
      "\u001b[0;32m<ipython-input-360-8820b28b6130>\u001b[0m in \u001b[0;36m<module>\u001b[0;34m\u001b[0m\n\u001b[1;32m     47\u001b[0m \u001b[0;34m\u001b[0m\u001b[0m\n\u001b[1;32m     48\u001b[0m \u001b[0mcvxopt\u001b[0m\u001b[0;34m.\u001b[0m\u001b[0msolvers\u001b[0m\u001b[0;34m.\u001b[0m\u001b[0moptions\u001b[0m\u001b[0;34m[\u001b[0m\u001b[0;34m'show_progress'\u001b[0m\u001b[0;34m]\u001b[0m \u001b[0;34m=\u001b[0m \u001b[0;32mTrue\u001b[0m\u001b[0;34m\u001b[0m\u001b[0;34m\u001b[0m\u001b[0m\n\u001b[0;32m---> 49\u001b[0;31m \u001b[0mminimization\u001b[0m \u001b[0;34m=\u001b[0m \u001b[0mcvxopt\u001b[0m\u001b[0;34m.\u001b[0m\u001b[0msolvers\u001b[0m\u001b[0;34m.\u001b[0m\u001b[0mqp\u001b[0m\u001b[0;34m(\u001b[0m\u001b[0mP\u001b[0m\u001b[0;34m,\u001b[0m \u001b[0mQ\u001b[0m\u001b[0;34m,\u001b[0m \u001b[0mG\u001b[0m\u001b[0;34m,\u001b[0m \u001b[0mh\u001b[0m\u001b[0;34m,\u001b[0m \u001b[0mA\u001b[0m\u001b[0;34m,\u001b[0m \u001b[0mb\u001b[0m\u001b[0;34m)\u001b[0m\u001b[0;34m\u001b[0m\u001b[0;34m\u001b[0m\u001b[0m\n\u001b[0m",
      "\u001b[0;32m~/opt/anaconda3/envs/ml_env/lib/python3.6/site-packages/cvxopt/coneprog.py\u001b[0m in \u001b[0;36mqp\u001b[0;34m(P, q, G, h, A, b, solver, kktsolver, initvals, **kwargs)\u001b[0m\n\u001b[1;32m   4483\u001b[0m             'residual as dual infeasibility certificate': dinfres}\n\u001b[1;32m   4484\u001b[0m \u001b[0;34m\u001b[0m\u001b[0m\n\u001b[0;32m-> 4485\u001b[0;31m     \u001b[0;32mreturn\u001b[0m \u001b[0mconeqp\u001b[0m\u001b[0;34m(\u001b[0m\u001b[0mP\u001b[0m\u001b[0;34m,\u001b[0m \u001b[0mq\u001b[0m\u001b[0;34m,\u001b[0m \u001b[0mG\u001b[0m\u001b[0;34m,\u001b[0m \u001b[0mh\u001b[0m\u001b[0;34m,\u001b[0m \u001b[0;32mNone\u001b[0m\u001b[0;34m,\u001b[0m \u001b[0mA\u001b[0m\u001b[0;34m,\u001b[0m  \u001b[0mb\u001b[0m\u001b[0;34m,\u001b[0m \u001b[0minitvals\u001b[0m\u001b[0;34m,\u001b[0m \u001b[0mkktsolver\u001b[0m \u001b[0;34m=\u001b[0m \u001b[0mkktsolver\u001b[0m\u001b[0;34m,\u001b[0m \u001b[0moptions\u001b[0m \u001b[0;34m=\u001b[0m \u001b[0moptions\u001b[0m\u001b[0;34m)\u001b[0m\u001b[0;34m\u001b[0m\u001b[0;34m\u001b[0m\u001b[0m\n\u001b[0m",
      "\u001b[0;32m~/opt/anaconda3/envs/ml_env/lib/python3.6/site-packages/cvxopt/coneprog.py\u001b[0m in \u001b[0;36mconeqp\u001b[0;34m(P, q, G, h, dims, A, b, initvals, kktsolver, xnewcopy, xdot, xaxpy, xscal, ynewcopy, ydot, yaxpy, yscal, **kwargs)\u001b[0m\n\u001b[1;32m   1893\u001b[0m         \u001b[0;32mif\u001b[0m \u001b[0mG\u001b[0m\u001b[0;34m.\u001b[0m\u001b[0mtypecode\u001b[0m \u001b[0;34m!=\u001b[0m \u001b[0;34m'd'\u001b[0m \u001b[0;32mor\u001b[0m \u001b[0mG\u001b[0m\u001b[0;34m.\u001b[0m\u001b[0msize\u001b[0m \u001b[0;34m!=\u001b[0m \u001b[0;34m(\u001b[0m\u001b[0mcdim\u001b[0m\u001b[0;34m,\u001b[0m \u001b[0mq\u001b[0m\u001b[0;34m.\u001b[0m\u001b[0msize\u001b[0m\u001b[0;34m[\u001b[0m\u001b[0;36m0\u001b[0m\u001b[0;34m]\u001b[0m\u001b[0;34m)\u001b[0m\u001b[0;34m:\u001b[0m\u001b[0;34m\u001b[0m\u001b[0;34m\u001b[0m\u001b[0m\n\u001b[1;32m   1894\u001b[0m             raise TypeError(\"'G' must be a 'd' matrix of size (%d, %d)\"\\\n\u001b[0;32m-> 1895\u001b[0;31m                 %(cdim, q.size[0]))\n\u001b[0m\u001b[1;32m   1896\u001b[0m         \u001b[0;32mdef\u001b[0m \u001b[0mfG\u001b[0m\u001b[0;34m(\u001b[0m\u001b[0mx\u001b[0m\u001b[0;34m,\u001b[0m \u001b[0my\u001b[0m\u001b[0;34m,\u001b[0m \u001b[0mtrans\u001b[0m \u001b[0;34m=\u001b[0m \u001b[0;34m'N'\u001b[0m\u001b[0;34m,\u001b[0m \u001b[0malpha\u001b[0m \u001b[0;34m=\u001b[0m \u001b[0;36m1.0\u001b[0m\u001b[0;34m,\u001b[0m \u001b[0mbeta\u001b[0m \u001b[0;34m=\u001b[0m \u001b[0;36m0.0\u001b[0m\u001b[0;34m)\u001b[0m\u001b[0;34m:\u001b[0m\u001b[0;34m\u001b[0m\u001b[0;34m\u001b[0m\u001b[0m\n\u001b[1;32m   1897\u001b[0m             misc.sgemv(G, x, y, dims, trans = trans, alpha = alpha,\n",
      "\u001b[0;31mTypeError\u001b[0m: 'G' must be a 'd' matrix of size (400, 200)"
     ]
    }
   ],
   "source": [
    "# SVM for regression\n",
    "\n",
    "X = np.random.normal(0,1,(100,1))\n",
    "Y = 0.3 + 0.54*X\n",
    "\n",
    "# the a^T P a term\n",
    "def compute_kernel(X1, X2):\n",
    "    N,p = X1.shape\n",
    "    return np.matmul(X1[:,np.newaxis],X2.T).reshape(N,N)\n",
    "C = 0.001 #for a soft margin\n",
    "eps = 0.001\n",
    "\n",
    "K = compute_kernel(X,X)\n",
    "\n",
    "K_top = np.concatenate([K,-K],1)\n",
    "K_bottom = np.concatenate([-K,K],1)\n",
    "P = np.concatenate([K_top,K_bottom],0)\n",
    "P = matrix(P,tc = 'd') \n",
    "\n",
    "\n",
    "# q\n",
    "\n",
    "# define the Qx term\n",
    "N,p = X.shape\n",
    "\n",
    "Q = np.concatenate([Y.ravel()- eps,-Y.ravel() - eps],0)\n",
    "Q = matrix(Q,tc = 'd')\n",
    "\n",
    "\n",
    "# Gx <  h terms => -a_n <= 0\n",
    "G_top_a = np.eye(N)\n",
    "G_top_ah = -np.eye(N)\n",
    "\n",
    "G_bottom_a = np.eye(N)\n",
    "G_bottom_ah = -np.eye(N)\n",
    "\n",
    "\n",
    "G = np.concatenate([G_top_a, G_top_ah, G_bottom_a,G_bottom_ah],0)\n",
    "G = matrix(G,tc='d')\n",
    "\n",
    "h_top_a = np.ones(N)*C\n",
    "h_top_ah = np.zeros(N)\n",
    "h_bottom_a = np.ones(N)*C\n",
    "h_bottom_ah = np.zeros(N)\n",
    "h = np.concatenate([h_top_a, h_bottom_ah,h_bottom_a,h_bottom_ah ],0)\n",
    "h = matrix(h, tc = 'd')\n",
    "\n",
    "cvxopt.solvers.options['show_progress'] = True\n",
    "minimization = cvxopt.solvers.qp(P, Q, G, h, A, b)"
   ]
  },
  {
   "cell_type": "code",
   "execution_count": null,
   "metadata": {},
   "outputs": [],
   "source": []
  }
 ],
 "metadata": {
  "kernelspec": {
   "display_name": "Python 3.6.9 64-bit ('ml_env': conda)",
   "language": "python",
   "name": "python36964bitmlenvconda9f54039d931e4029adcffd4ea832f0f0"
  },
  "language_info": {
   "codemirror_mode": {
    "name": "ipython",
    "version": 3
   },
   "file_extension": ".py",
   "mimetype": "text/x-python",
   "name": "python",
   "nbconvert_exporter": "python",
   "pygments_lexer": "ipython3",
   "version": "3.6.9"
  }
 },
 "nbformat": 4,
 "nbformat_minor": 2
}
