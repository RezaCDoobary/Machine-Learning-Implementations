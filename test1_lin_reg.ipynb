{
 "cells": [
  {
   "cell_type": "code",
   "execution_count": 1,
   "metadata": {},
   "outputs": [],
   "source": [
    "import ML\n",
    "from sklearn import linear_model\n",
    "import numpy as np\n",
    "import pandas as pd"
   ]
  },
  {
   "cell_type": "code",
   "execution_count": 103,
   "metadata": {
    "collapsed": true
   },
   "outputs": [],
   "source": [
    "#BASIC OLS test"
   ]
  },
  {
   "cell_type": "code",
   "execution_count": 89,
   "metadata": {},
   "outputs": [],
   "source": [
    "#NORMAL distribution\n",
    "\n",
    "def normal_test():\n",
    "    X = np.random.uniform(0,100,(1000,10))\n",
    "    beta = np.random.uniform(0,100,10)\n",
    "    alpha = np.random.uniform(0,10)\n",
    "    Y = alpha + np.matmul(X,beta)\n",
    "\n",
    "    dfx = pd.DataFrame(X)\n",
    "    dfx.columns = ['X_' + str(dfx.columns[i]) for i in range(0,len(dfx.columns))]\n",
    "    dfy = pd.DataFrame(Y)\n",
    "    dfy.columns = ['Y']\n",
    "\n",
    "    df = pd.concat([dfx,dfy],1)\n",
    "    data_loader = ML.split(df,0.2, report = False)\n",
    "    \n",
    "    avg = []\n",
    "    for k in data_loader.keys():\n",
    "        df_train = data_loader[k]['train']\n",
    "        X_train = df_train[dfx.columns].values\n",
    "        Y_train = df_train[dfy.columns].values\n",
    "\n",
    "        df_test = data_loader[k]['test']\n",
    "        X_test = df_test[dfx.columns].values\n",
    "        Y_test = df_test[dfy.columns].values\n",
    "\n",
    "        lr = linear_model.LinearRegression()\n",
    "        lr.fit(X_train, Y_train)\n",
    "        diff = lr.predict(X_test) - Y_test\n",
    "        avg.append(sum(diff**2)[0])\n",
    "    skl = np.array(avg).mean()\n",
    "    \n",
    "\n",
    "    for k in data_loader.keys():\n",
    "        df_train = data_loader[k]['train']\n",
    "        X_train = df_train[dfx.columns].values\n",
    "        Y_train = df_train[dfy.columns].values\n",
    "\n",
    "        df_test = data_loader[k]['test']\n",
    "        X_test = df_test[dfx.columns].values\n",
    "        Y_test = df_test[dfy.columns].values\n",
    "\n",
    "        lr = ML.LinearRegression()\n",
    "        lr.setUp(X_train, Y_train)\n",
    "        betas = lr.fit(\"OLS\")\n",
    "        diff = lr.predict(X_test) - Y_test.flatten()\n",
    "        avg.append(sum(diff**2))\n",
    "    ourmodel = np.array(avg).mean()\n",
    "    \n",
    "    return skl, ourmodel"
   ]
  },
  {
   "cell_type": "code",
   "execution_count": 90,
   "metadata": {},
   "outputs": [],
   "source": [
    "sklearn_results = []\n",
    "ourmodel_results = []\n",
    "for i in range(0,1000):\n",
    "    skl, ourmodel = normal_test()\n",
    "    sklearn_results.append(skl)\n",
    "    ourmodel_results.append(ourmodel)"
   ]
  },
  {
   "cell_type": "code",
   "execution_count": 91,
   "metadata": {
    "collapsed": true
   },
   "outputs": [],
   "source": [
    "import matplotlib.pyplot as plt"
   ]
  },
  {
   "cell_type": "code",
   "execution_count": 92,
   "metadata": {},
   "outputs": [
    {
     "data": {
      "image/png": "[encoded data removed]",
      "text/plain": [
       "<matplotlib.figure.Figure at 0x1a1c439978>"
      ]
     },
     "metadata": {},
     "output_type": "display_data"
    },
    {
     "data": {
      "image/png": "[encoded data removed]",
      "text/plain": [
       "<matplotlib.figure.Figure at 0x1a1c439278>"
      ]
     },
     "metadata": {},
     "output_type": "display_data"
    }
   ],
   "source": [
    "plt.hist(sklearn_results,100)\n",
    "plt.show()\n",
    "plt.hist(ourmodel_results,100)\n",
    "plt.show()"
   ]
  },
  {
   "cell_type": "code",
   "execution_count": 96,
   "metadata": {
    "collapsed": true
   },
   "outputs": [],
   "source": [
    "    X = np.random.gamma(3,100,(1000,10))\n",
    "    beta = np.random.uniform(0,100,10)\n",
    "    alpha = np.random.uniform(0,10)\n",
    "    Y = alpha + np.matmul(X,beta)\n"
   ]
  },
  {
   "cell_type": "code",
   "execution_count": 100,
   "metadata": {},
   "outputs": [],
   "source": [
    "#GAMMA distribution\n",
    "\n",
    "def gamma_test():\n",
    "    X = np.random.gamma(3,100,(1000,10))\n",
    "    beta = np.random.uniform(0,100,10)\n",
    "    alpha = np.random.uniform(0,10)\n",
    "    Y = alpha + np.matmul(X,beta)\n",
    "\n",
    "    dfx = pd.DataFrame(X)\n",
    "    dfx.columns = ['X_' + str(dfx.columns[i]) for i in range(0,len(dfx.columns))]\n",
    "    dfy = pd.DataFrame(Y)\n",
    "    dfy.columns = ['Y']\n",
    "\n",
    "    df = pd.concat([dfx,dfy],1)\n",
    "    data_loader = ML.split(df,0.2, report = False)\n",
    "    \n",
    "    avg = []\n",
    "    for k in data_loader.keys():\n",
    "        df_train = data_loader[k]['train']\n",
    "        X_train = df_train[dfx.columns].values\n",
    "        Y_train = df_train[dfy.columns].values\n",
    "\n",
    "        df_test = data_loader[k]['test']\n",
    "        X_test = df_test[dfx.columns].values\n",
    "        Y_test = df_test[dfy.columns].values\n",
    "\n",
    "        lr = linear_model.LinearRegression()\n",
    "        lr.fit(X_train, Y_train)\n",
    "        diff = lr.predict(X_test) - Y_test\n",
    "        avg.append(sum(diff**2)[0])\n",
    "    skl = np.array(avg).mean()\n",
    "    \n",
    "\n",
    "    for k in data_loader.keys():\n",
    "        df_train = data_loader[k]['train']\n",
    "        X_train = df_train[dfx.columns].values\n",
    "        Y_train = df_train[dfy.columns].values\n",
    "\n",
    "        df_test = data_loader[k]['test']\n",
    "        X_test = df_test[dfx.columns].values\n",
    "        Y_test = df_test[dfy.columns].values\n",
    "\n",
    "        lr = ML.LinearRegression()\n",
    "        lr.setUp(X_train, Y_train)\n",
    "        betas = lr.fit(\"OLS\")\n",
    "        diff = lr.predict(X_test) - Y_test.flatten()\n",
    "        avg.append(sum(diff**2))\n",
    "    ourmodel = np.array(avg).mean()\n",
    "    \n",
    "    return skl, ourmodel"
   ]
  },
  {
   "cell_type": "code",
   "execution_count": 101,
   "metadata": {
    "collapsed": true
   },
   "outputs": [],
   "source": [
    "sklearn_results = []\n",
    "ourmodel_results = []\n",
    "for i in range(0,1000):\n",
    "    skl, ourmodel = normal_test()\n",
    "    sklearn_results.append(skl)\n",
    "    ourmodel_results.append(ourmodel)"
   ]
  },
  {
   "cell_type": "code",
   "execution_count": 102,
   "metadata": {},
   "outputs": [
    {
     "data": {
      "image/png": "[encoded data removed]",
      "text/plain": [
       "<matplotlib.figure.Figure at 0x1a1b13c748>"
      ]
     },
     "metadata": {},
     "output_type": "display_data"
    },
    {
     "data": {
      "image/png": "[encoded data removed]",
      "text/plain": [
       "<matplotlib.figure.Figure at 0x1a1c02ebe0>"
      ]
     },
     "metadata": {},
     "output_type": "display_data"
    }
   ],
   "source": [
    "plt.hist(sklearn_results,100)\n",
    "plt.show()\n",
    "plt.hist(ourmodel_results,100)\n",
    "plt.show()"
   ]
  },
  {
   "cell_type": "code",
   "execution_count": 105,
   "metadata": {
    "collapsed": true
   },
   "outputs": [],
   "source": [
    "#OPTIMISER test...coming soon"
   ]
  }
 ],
 "metadata": {
  "kernelspec": {
   "display_name": "Python [default]",
   "language": "python",
   "name": "python3"
  },
  "language_info": {
   "codemirror_mode": {
    "name": "ipython",
    "version": 3
   },
   "file_extension": ".py",
   "mimetype": "text/x-python",
   "name": "python",
   "nbconvert_exporter": "python",
   "pygments_lexer": "ipython3",
   "version": "3.6.5"
  }
 },
 "nbformat": 4,
 "nbformat_minor": 2
}
